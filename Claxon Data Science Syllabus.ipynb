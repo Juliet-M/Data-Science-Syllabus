{
 "cells": [
  {
   "cell_type": "markdown",
   "id": "0f26f74c-b5d7-4f1c-8a7e-a5e7385caaf9",
   "metadata": {},
   "source": [
    "### •\tIntroduction to Python programming\n",
    "### •\tPython syntax and data types (strings, numbers, lists, dictionaries)\n",
    "### •\tControl structures (if statements, loops)\n",
    "### •\tFunctions and modules\n",
    "### •\tError handling and debugging\n"
   ]
  },
  {
   "cell_type": "code",
   "execution_count": 60,
   "id": "4f1beea7-e114-46b3-a1d9-6b85f418e21f",
   "metadata": {},
   "outputs": [
    {
     "name": "stdout",
     "output_type": "stream",
     "text": [
      "{'brand': 'Ford', 'year': 2000}\n"
     ]
    }
   ],
   "source": [
    "#Data Types\n",
    "#1. Dictionaries - A dictionary is a collection which is ordered, changeable and do not allow duplicates.\n",
    "dict = {\n",
    "    \"brand\": \"Ford\",\n",
    "    \"year\": 2000\n",
    "}\n",
    "print(dict)\n"
   ]
  },
  {
   "cell_type": "code",
   "execution_count": 2,
   "id": "4c861441-2e61-4369-8043-e07a3512647e",
   "metadata": {},
   "outputs": [
    {
     "name": "stdout",
     "output_type": "stream",
     "text": [
      "5\n"
     ]
    }
   ],
   "source": [
    "#Control Structures(If Statements, Loops)\n",
    "a = 5\n",
    "b = 10\n",
    "if a<b:\n",
    " print(a)"
   ]
  },
  {
   "cell_type": "code",
   "execution_count": 3,
   "id": "b0635bef-8eb3-4a89-99d6-b2bf14243dbf",
   "metadata": {},
   "outputs": [
    {
     "name": "stdout",
     "output_type": "stream",
     "text": [
      "C and D are equal\n"
     ]
    }
   ],
   "source": [
    "#elif\n",
    "c = 33\n",
    "d = 33\n",
    "if c>d:\n",
    " print(\"C is greater than D\")\n",
    "elif c == d:\n",
    "     print(\"C and D are equal\")"
   ]
  },
  {
   "cell_type": "code",
   "execution_count": 4,
   "id": "bce00979-d2d0-4737-89c6-27de9b2ed8da",
   "metadata": {},
   "outputs": [
    {
     "name": "stdout",
     "output_type": "stream",
     "text": [
      "F is greater than E\n"
     ]
    }
   ],
   "source": [
    "#else\n",
    "e = 10\n",
    "f = 20\n",
    "if e>f:\n",
    "    print(\"E is greater than F\")\n",
    "elif e == f:\n",
    " print(\"e and f are equal\")\n",
    "else:\n",
    " print(\"F is greater than E\")"
   ]
  },
  {
   "cell_type": "code",
   "execution_count": 5,
   "id": "4d4633a9-7dbe-4836-a703-d8d88d969a5f",
   "metadata": {},
   "outputs": [
    {
     "name": "stdout",
     "output_type": "stream",
     "text": [
      "i am an analyst\n"
     ]
    }
   ],
   "source": [
    "#FUNCTIONS AND MODULES \n",
    "#Calling a function\n",
    "def the_analyst():\n",
    " print('i am an analyst')\n",
    "the_analyst()\n"
   ]
  },
  {
   "cell_type": "code",
   "execution_count": 6,
   "id": "c5e6db4a-2c95-4cfc-a0e4-eb305aba72d2",
   "metadata": {},
   "outputs": [
    {
     "name": "stdout",
     "output_type": "stream",
     "text": [
      "8\n"
     ]
    }
   ],
   "source": [
    "def add(num1,num2):\n",
    "    addition = num1 + num2\n",
    "    return addition\n",
    "result = add(3,5)\n",
    "print(result)\n",
    "    "
   ]
  },
  {
   "cell_type": "code",
   "execution_count": 7,
   "id": "1b40d8ae-63d2-4f2b-a250-b906a1633002",
   "metadata": {},
   "outputs": [],
   "source": [
    "#MODULES\n",
    "\n"
   ]
  },
  {
   "cell_type": "code",
   "execution_count": 8,
   "id": "9f454b81-cde2-49ad-a3f2-7a01f5a35197",
   "metadata": {},
   "outputs": [],
   "source": [
    "#ERROR HANDLING AND DEBUGGING\n"
   ]
  },
  {
   "cell_type": "code",
   "execution_count": 9,
   "id": "8dc64e5c-9595-443a-82f8-2d48ab4cb7c5",
   "metadata": {},
   "outputs": [],
   "source": [
    "#Python's Built-In Debugger(pdb)\n",
    "#Starting a debugger session\n"
   ]
  },
  {
   "cell_type": "markdown",
   "id": "0c23be16-28ca-4174-9564-e44a30d237d4",
   "metadata": {},
   "source": [
    "## 2: Object-Oriented Programming (OOP) in Python\r\n",
    "•\tIntroduction to OOP concepts (classes, objects, inheritance, polymorphism)\r\n",
    "•\tDefining and using classes\r\n",
    "•\tMethods and attribu\n",
    "es\r\n",
    "•\tInheritance, Mixins and method overriding\r\n",
    "•\tEncapsulation and abstraction (getters, setters)\r\n"
   ]
  },
  {
   "cell_type": "code",
   "execution_count": 10,
   "id": "0a378cd7-48ab-4823-ac98-b26362418f03",
   "metadata": {},
   "outputs": [
    {
     "name": "stdout",
     "output_type": "stream",
     "text": [
      "Juliet\n"
     ]
    }
   ],
   "source": [
    "#Intro to OOP Concepts\n",
    "#CLASSES\n",
    "class Person:  \n",
    "    def __init__ (self,age,first_name,last_name):\n",
    "     self.age = age\n",
    "     self.first_name = first_name\n",
    "     self.last_name = last_name\n",
    "    \n",
    "#making an instance of our class\n",
    "user = Person(23,\"Juliet\",\"Masvaure\")\n",
    "print(user.first_name)\n",
    "    \n"
   ]
  },
  {
   "cell_type": "code",
   "execution_count": 11,
   "id": "713e85f0-bf33-4916-b501-f7bc3c4e6273",
   "metadata": {},
   "outputs": [
    {
     "name": "stdout",
     "output_type": "stream",
     "text": [
      "Hi Jay\n"
     ]
    }
   ],
   "source": [
    "#Empty Class\n",
    "class Demo:  #class\n",
    "    pass\n",
    "obj = Demo() #object\n",
    "obj.name = \"Hi Jay\"\n",
    "print(obj.name)"
   ]
  },
  {
   "cell_type": "code",
   "execution_count": 12,
   "id": "a9823d1c-ac8a-4ba2-944f-50134888039b",
   "metadata": {},
   "outputs": [],
   "source": [
    "#Polymorphism"
   ]
  },
  {
   "cell_type": "markdown",
   "id": "9ee8b878-299c-477f-98fa-eecd68606194",
   "metadata": {},
   "source": [
    "# 3: Functional Programming in Python\r\n",
    "•\tIntroduction to functional programming concepts\r\n",
    "•\tHigher-order functions (map, filter)\r\n",
    "•\tLambda functions and anonymous functions\r\n",
    "•\tScope and Closures.\r\n",
    "•\tDecorators: definition, usage, and examples\r\n"
   ]
  },
  {
   "cell_type": "markdown",
   "id": "0bc356c5-828f-4f25-9063-92ea6f45d601",
   "metadata": {},
   "source": [
    "## Higher order functions(map,filter)"
   ]
  },
  {
   "cell_type": "code",
   "execution_count": 13,
   "id": "44c36b7c-80f9-448f-a0de-4479836d370e",
   "metadata": {},
   "outputs": [
    {
     "name": "stdout",
     "output_type": "stream",
     "text": [
      "[2, 4, 6, 8]\n"
     ]
    }
   ],
   "source": [
    "#using lambda\n",
    "nums = [1,2,3,4,5,6,7,8]\n",
    "\n",
    "even_nums = list(filter(lambda n: n%2 == 0, nums))\n",
    "print(even_nums)"
   ]
  },
  {
   "cell_type": "code",
   "execution_count": 14,
   "id": "7588f12e-c2fe-40cc-9c46-0aab1694241f",
   "metadata": {},
   "outputs": [
    {
     "name": "stdout",
     "output_type": "stream",
     "text": [
      "[4, 8, 12, 16]\n"
     ]
    }
   ],
   "source": [
    "#using map to double the even numbers\n",
    "double = list(map(lambda n: n*2, even_nums))\n",
    "print(double)"
   ]
  },
  {
   "cell_type": "code",
   "execution_count": 15,
   "id": "6edab34b-2898-4c59-87bb-8bf8772f1f2c",
   "metadata": {},
   "outputs": [],
   "source": [
    "# Lambda functions and anonymous functions\n",
    "#Lambda function mainly used to create a function without a name. It is mainly used with filter() and map() functions\n",
    "#Using Lambda for basic calculations\n",
    "def my_fun(x):\n",
    "    return x**2\n",
    "y = lambda n: x**2"
   ]
  },
  {
   "cell_type": "markdown",
   "id": "fec12712-aaf8-4935-ae61-3080d7b2e74f",
   "metadata": {},
   "source": [
    "## Scope and Closures"
   ]
  },
  {
   "cell_type": "markdown",
   "id": "362909f1-44d7-4467-9470-2f49b171f8c4",
   "metadata": {},
   "source": [
    "Closures\n",
    "\n",
    "A closure is a function that remembers the environment in which they were created. They can access variables from their enclosing scope\n",
    "\n",
    "Everyday use case of Closures\n",
    "Closures are usually used in callback functions in Python. These functions are passed as arguments to other functions and are called when a certain event occurs.\n",
    "\n",
    "Decorators\n",
    "Allow us to add functionality to existing functions without modifying their code.\n",
    "closures are often used to implement decorators"
   ]
  },
  {
   "cell_type": "code",
   "execution_count": 16,
   "id": "9e24ce09-6e87-4516-b05c-984b7afdc05c",
   "metadata": {},
   "outputs": [
    {
     "name": "stdout",
     "output_type": "stream",
     "text": [
      "Hi Juliet\n"
     ]
    }
   ],
   "source": [
    "#Closure in action\n",
    "def outer_function(message):\n",
    " def inner_function():\n",
    "     print(message)\n",
    " return inner_function\n",
    "my_function = outer_function(\"Hi Juliet\")\n",
    "my_function()\n",
    "\n",
    "#inne_function is a closure that remembers the message variable from outer_function. When my_function is called it prints Hi Juliet"
   ]
  },
  {
   "cell_type": "code",
   "execution_count": 17,
   "id": "beb9bab9-2000-443c-ab39-1be69d917422",
   "metadata": {},
   "outputs": [
    {
     "name": "stdout",
     "output_type": "stream",
     "text": [
      "10\n"
     ]
    }
   ],
   "source": [
    "#Closure functions makes it possible to do nested functions\n",
    "\n",
    "def outer_func():\n",
    " x = 10\n",
    " def inner_func():\n",
    "     print(x)\n",
    " inner_func()\n",
    "outer_func()\n",
    "  "
   ]
  },
  {
   "cell_type": "code",
   "execution_count": 18,
   "id": "f4a86921-03d2-4934-bcfc-db7b40a94edf",
   "metadata": {},
   "outputs": [
    {
     "name": "stdout",
     "output_type": "stream",
     "text": [
      "Hello\n"
     ]
    }
   ],
   "source": [
    "#Decorators\n",
    "def my_decorator():\n",
    "    def wrapper():\n",
    "        print(\"Something is happening before\")\n",
    "        func()\n",
    "        print(\"Something is happening after\")\n",
    "    return wrapper\n",
    "\n",
    "def say_hi():\n",
    "    print(\"Hello\")\n",
    "say_hi()\n"
   ]
  },
  {
   "cell_type": "markdown",
   "id": "48bf1139-7a4d-49fd-ba8d-8e9d82e78ec4",
   "metadata": {},
   "source": [
    "## 4: Python for Data Analysis (Introduction to Pandas, Data Cleaning & Manipulation)"
   ]
  },
  {
   "cell_type": "markdown",
   "id": "0c9ce534-12fd-4aea-9400-7e73cf80450a",
   "metadata": {},
   "source": [
    "Introduction to Pandas for Data Manipulation (Creation of Pandas Data Structures and Basic Operations)\n",
    "•\tManipulation of Pandas Objects i.e. Indexing, selecting, filtering data, adding/removing columns, updating values\n",
    "•\tData Cleaning and Preprocessing (handling missing values, duplicates, data transformation, type conversion)\n",
    "•\tData Merging and Joining (concatenation, merging, joining ~ inner, outer, left, right)\n",
    "•\tCleaning Up Textual Data (Use of Regular Expression - Regex, .str accessor)\n",
    "•\tDealing with Dates (Date conversion dt accessor)\n"
   ]
  },
  {
   "cell_type": "markdown",
   "id": "e2a38af6-fc05-44ad-8cea-e5b2fd7d7493",
   "metadata": {},
   "source": [
    "### Introduction to Pandas for Data Manipulation (Creation of Pandas Data Structures and Basic Operations)"
   ]
  },
  {
   "cell_type": "code",
   "execution_count": 61,
   "id": "ebf90ef0-e28b-40c8-8520-2d98ad8dd8d9",
   "metadata": {},
   "outputs": [],
   "source": [
    "import pandas as pd\n",
    "import numpy as np"
   ]
  },
  {
   "cell_type": "code",
   "execution_count": 20,
   "id": "6c9e733b-7966-41dd-920d-2e74375d78ff",
   "metadata": {},
   "outputs": [
    {
     "data": {
      "text/plain": [
       "array([[ 5,  4,  3,  2,  1],\n",
       "       [10,  8,  6,  3,  2]])"
      ]
     },
     "execution_count": 20,
     "metadata": {},
     "output_type": "execute_result"
    }
   ],
   "source": [
    "array_a = np.array([[5,4,3, 2, 1,], [10,8,6, 3, 2]])\n",
    "array_a"
   ]
  },
  {
   "cell_type": "code",
   "execution_count": 21,
   "id": "c151b436-1696-411d-abc0-c22c361b57b7",
   "metadata": {},
   "outputs": [
    {
     "data": {
      "text/html": [
       "<div>\n",
       "<style scoped>\n",
       "    .dataframe tbody tr th:only-of-type {\n",
       "        vertical-align: middle;\n",
       "    }\n",
       "\n",
       "    .dataframe tbody tr th {\n",
       "        vertical-align: top;\n",
       "    }\n",
       "\n",
       "    .dataframe thead th {\n",
       "        text-align: right;\n",
       "    }\n",
       "</style>\n",
       "<table border=\"1\" class=\"dataframe\">\n",
       "  <thead>\n",
       "    <tr style=\"text-align: right;\">\n",
       "      <th></th>\n",
       "      <th>0</th>\n",
       "      <th>1</th>\n",
       "      <th>2</th>\n",
       "      <th>3</th>\n",
       "      <th>4</th>\n",
       "    </tr>\n",
       "  </thead>\n",
       "  <tbody>\n",
       "    <tr>\n",
       "      <th>0</th>\n",
       "      <td>5</td>\n",
       "      <td>4</td>\n",
       "      <td>3</td>\n",
       "      <td>2</td>\n",
       "      <td>1</td>\n",
       "    </tr>\n",
       "    <tr>\n",
       "      <th>1</th>\n",
       "      <td>10</td>\n",
       "      <td>8</td>\n",
       "      <td>6</td>\n",
       "      <td>3</td>\n",
       "      <td>2</td>\n",
       "    </tr>\n",
       "  </tbody>\n",
       "</table>\n",
       "</div>"
      ],
      "text/plain": [
       "    0  1  2  3  4\n",
       "0   5  4  3  2  1\n",
       "1  10  8  6  3  2"
      ]
     },
     "execution_count": 21,
     "metadata": {},
     "output_type": "execute_result"
    }
   ],
   "source": [
    "df = pd.DataFrame(array_a)\n",
    "df"
   ]
  },
  {
   "cell_type": "code",
   "execution_count": 22,
   "id": "a944da0c-120d-4eca-a195-d8cf69711bfe",
   "metadata": {},
   "outputs": [
    {
     "data": {
      "text/html": [
       "<div>\n",
       "<style scoped>\n",
       "    .dataframe tbody tr th:only-of-type {\n",
       "        vertical-align: middle;\n",
       "    }\n",
       "\n",
       "    .dataframe tbody tr th {\n",
       "        vertical-align: top;\n",
       "    }\n",
       "\n",
       "    .dataframe thead th {\n",
       "        text-align: right;\n",
       "    }\n",
       "</style>\n",
       "<table border=\"1\" class=\"dataframe\">\n",
       "  <thead>\n",
       "    <tr style=\"text-align: right;\">\n",
       "      <th></th>\n",
       "      <th>Column1</th>\n",
       "      <th>Column2</th>\n",
       "      <th>Column3</th>\n",
       "      <th>Column4</th>\n",
       "      <th>Column5</th>\n",
       "    </tr>\n",
       "  </thead>\n",
       "  <tbody>\n",
       "    <tr>\n",
       "      <th>0</th>\n",
       "      <td>5</td>\n",
       "      <td>4</td>\n",
       "      <td>3</td>\n",
       "      <td>2</td>\n",
       "      <td>1</td>\n",
       "    </tr>\n",
       "    <tr>\n",
       "      <th>1</th>\n",
       "      <td>10</td>\n",
       "      <td>8</td>\n",
       "      <td>6</td>\n",
       "      <td>3</td>\n",
       "      <td>2</td>\n",
       "    </tr>\n",
       "  </tbody>\n",
       "</table>\n",
       "</div>"
      ],
      "text/plain": [
       "   Column1  Column2  Column3  Column4  Column5\n",
       "0        5        4        3        2        1\n",
       "1       10        8        6        3        2"
      ]
     },
     "execution_count": 22,
     "metadata": {},
     "output_type": "execute_result"
    }
   ],
   "source": [
    "#Naming Columns\n",
    "df.columns = ['Column1', 'Column2', 'Column3', 'Column4', 'Column5']\n",
    "df"
   ]
  },
  {
   "cell_type": "markdown",
   "id": "cf3d3dbe-7764-435f-9d49-cf9113301f7a",
   "metadata": {},
   "source": [
    "### Manipulation of Pandas Objects i.e. Indexing, selecting, filtering data, adding/removing columns, updating values"
   ]
  },
  {
   "cell_type": "code",
   "execution_count": 23,
   "id": "f5a22138-5de7-441e-b0b0-24971d0b6420",
   "metadata": {},
   "outputs": [
    {
     "data": {
      "text/plain": [
       "0     5\n",
       "1    10\n",
       "Name: Column1, dtype: int32"
      ]
     },
     "execution_count": 23,
     "metadata": {},
     "output_type": "execute_result"
    }
   ],
   "source": [
    "#Data Selectiong\n",
    "df.Column1"
   ]
  },
  {
   "cell_type": "code",
   "execution_count": 24,
   "id": "82ca8c02-f9e3-43f6-86dc-b5b8ed99778b",
   "metadata": {},
   "outputs": [
    {
     "data": {
      "text/plain": [
       "0    4\n",
       "1    8\n",
       "Name: Column2, dtype: int32"
      ]
     },
     "execution_count": 24,
     "metadata": {},
     "output_type": "execute_result"
    }
   ],
   "source": [
    "df['Column2']"
   ]
  },
  {
   "cell_type": "code",
   "execution_count": 25,
   "id": "44246db3-a587-4011-8615-59fa9869b218",
   "metadata": {},
   "outputs": [
    {
     "data": {
      "text/plain": [
       "4"
      ]
     },
     "execution_count": 25,
     "metadata": {},
     "output_type": "execute_result"
    }
   ],
   "source": [
    "#Indexing using .iloc[]\n",
    "df.iloc[0,1]"
   ]
  },
  {
   "cell_type": "code",
   "execution_count": 26,
   "id": "070347e9-7b2f-4c2c-8745-b3a71e1f0e99",
   "metadata": {},
   "outputs": [
    {
     "data": {
      "text/plain": [
       "0    4\n",
       "1    8\n",
       "Name: Column2, dtype: int32"
      ]
     },
     "execution_count": 26,
     "metadata": {},
     "output_type": "execute_result"
    }
   ],
   "source": [
    "df.iloc[:,1]"
   ]
  },
  {
   "cell_type": "code",
   "execution_count": 27,
   "id": "fd54794d-bba4-40dd-a54e-60b9b47b8cc3",
   "metadata": {},
   "outputs": [
    {
     "data": {
      "text/plain": [
       "Column1    10\n",
       "Column2     8\n",
       "Column3     6\n",
       "Column4     3\n",
       "Column5     2\n",
       "Name: 1, dtype: int32"
      ]
     },
     "execution_count": 27,
     "metadata": {},
     "output_type": "execute_result"
    }
   ],
   "source": [
    "df.iloc[1,:]"
   ]
  },
  {
   "cell_type": "code",
   "execution_count": 28,
   "id": "17ad7674-6ef6-4369-a2c8-168fb004f239",
   "metadata": {},
   "outputs": [
    {
     "data": {
      "text/plain": [
       "5"
      ]
     },
     "execution_count": 28,
     "metadata": {},
     "output_type": "execute_result"
    }
   ],
   "source": [
    "#using loc\n",
    "df.loc[0,'Column1']"
   ]
  },
  {
   "cell_type": "code",
   "execution_count": 29,
   "id": "b6b693fb-48f9-4eec-98da-ae8801b96eef",
   "metadata": {},
   "outputs": [],
   "source": [
    "#updating values"
   ]
  },
  {
   "cell_type": "markdown",
   "id": "d22e4120-703a-41d1-9fbe-ce0e1b9d69dc",
   "metadata": {},
   "source": [
    "### Data Cleaning and Preprocessing (handling missing values, duplicates, data transformation, type conversion)"
   ]
  },
  {
   "cell_type": "code",
   "execution_count": 62,
   "id": "91e0016d-0518-46dc-8710-166d56bcf6a8",
   "metadata": {},
   "outputs": [
    {
     "data": {
      "text/html": [
       "<div>\n",
       "<style scoped>\n",
       "    .dataframe tbody tr th:only-of-type {\n",
       "        vertical-align: middle;\n",
       "    }\n",
       "\n",
       "    .dataframe tbody tr th {\n",
       "        vertical-align: top;\n",
       "    }\n",
       "\n",
       "    .dataframe thead th {\n",
       "        text-align: right;\n",
       "    }\n",
       "</style>\n",
       "<table border=\"1\" class=\"dataframe\">\n",
       "  <thead>\n",
       "    <tr style=\"text-align: right;\">\n",
       "      <th></th>\n",
       "      <th>Date</th>\n",
       "      <th>Horsepower</th>\n",
       "      <th>Fuel Efficiency (MPG)</th>\n",
       "      <th>Brand Reputation (Score 1-10)</th>\n",
       "      <th>Model</th>\n",
       "      <th>Price (USD)</th>\n",
       "    </tr>\n",
       "  </thead>\n",
       "  <tbody>\n",
       "    <tr>\n",
       "      <th>0</th>\n",
       "      <td>2/2/2024</td>\n",
       "      <td>220.0</td>\n",
       "      <td>32.0</td>\n",
       "      <td>8.0</td>\n",
       "      <td>Toyota</td>\n",
       "      <td>30000.0</td>\n",
       "    </tr>\n",
       "    <tr>\n",
       "      <th>1</th>\n",
       "      <td>12/24/2022</td>\n",
       "      <td>180.0</td>\n",
       "      <td>40.0</td>\n",
       "      <td>NaN</td>\n",
       "      <td>Mazda</td>\n",
       "      <td>22500.0</td>\n",
       "    </tr>\n",
       "    <tr>\n",
       "      <th>2</th>\n",
       "      <td>11/13/2023</td>\n",
       "      <td>NaN</td>\n",
       "      <td>25.0</td>\n",
       "      <td>9.0</td>\n",
       "      <td>BMW</td>\n",
       "      <td>45000.0</td>\n",
       "    </tr>\n",
       "    <tr>\n",
       "      <th>3</th>\n",
       "      <td>9/23/2020</td>\n",
       "      <td>150.0</td>\n",
       "      <td>35.0</td>\n",
       "      <td>6.0</td>\n",
       "      <td>Hyundai</td>\n",
       "      <td>18000.0</td>\n",
       "    </tr>\n",
       "    <tr>\n",
       "      <th>4</th>\n",
       "      <td>8/9/2021</td>\n",
       "      <td>250.0</td>\n",
       "      <td>NaN</td>\n",
       "      <td>8.0</td>\n",
       "      <td>NaN</td>\n",
       "      <td>32000.0</td>\n",
       "    </tr>\n",
       "  </tbody>\n",
       "</table>\n",
       "</div>"
      ],
      "text/plain": [
       "         Date  Horsepower  Fuel Efficiency (MPG)  \\\n",
       "0    2/2/2024       220.0                   32.0   \n",
       "1  12/24/2022       180.0                   40.0   \n",
       "2  11/13/2023         NaN                   25.0   \n",
       "3   9/23/2020       150.0                   35.0   \n",
       "4    8/9/2021       250.0                    NaN   \n",
       "\n",
       "   Brand Reputation (Score 1-10)    Model  Price (USD)  \n",
       "0                            8.0   Toyota      30000.0  \n",
       "1                            NaN    Mazda      22500.0  \n",
       "2                            9.0      BMW      45000.0  \n",
       "3                            6.0  Hyundai      18000.0  \n",
       "4                            8.0      NaN      32000.0  "
      ]
     },
     "execution_count": 62,
     "metadata": {},
     "output_type": "execute_result"
    }
   ],
   "source": [
    "df_cars = pd.read_csv('Cars.csv')\n",
    "df_cars.head()                  "
   ]
  },
  {
   "cell_type": "markdown",
   "id": "59717baa-77ed-4c4d-bb61-669ac891f1a8",
   "metadata": {},
   "source": [
    "### Handling missing values"
   ]
  },
  {
   "cell_type": "code",
   "execution_count": 63,
   "id": "06afc7bf-bc55-4d4b-9455-7455293359f0",
   "metadata": {},
   "outputs": [
    {
     "data": {
      "text/html": [
       "<div>\n",
       "<style scoped>\n",
       "    .dataframe tbody tr th:only-of-type {\n",
       "        vertical-align: middle;\n",
       "    }\n",
       "\n",
       "    .dataframe tbody tr th {\n",
       "        vertical-align: top;\n",
       "    }\n",
       "\n",
       "    .dataframe thead th {\n",
       "        text-align: right;\n",
       "    }\n",
       "</style>\n",
       "<table border=\"1\" class=\"dataframe\">\n",
       "  <thead>\n",
       "    <tr style=\"text-align: right;\">\n",
       "      <th></th>\n",
       "      <th>Date</th>\n",
       "      <th>Horsepower</th>\n",
       "      <th>Fuel Efficiency (MPG)</th>\n",
       "      <th>Brand Reputation (Score 1-10)</th>\n",
       "      <th>Model</th>\n",
       "      <th>Price (USD)</th>\n",
       "    </tr>\n",
       "  </thead>\n",
       "  <tbody>\n",
       "    <tr>\n",
       "      <th>0</th>\n",
       "      <td>False</td>\n",
       "      <td>False</td>\n",
       "      <td>False</td>\n",
       "      <td>False</td>\n",
       "      <td>False</td>\n",
       "      <td>False</td>\n",
       "    </tr>\n",
       "    <tr>\n",
       "      <th>1</th>\n",
       "      <td>False</td>\n",
       "      <td>False</td>\n",
       "      <td>False</td>\n",
       "      <td>True</td>\n",
       "      <td>False</td>\n",
       "      <td>False</td>\n",
       "    </tr>\n",
       "    <tr>\n",
       "      <th>2</th>\n",
       "      <td>False</td>\n",
       "      <td>True</td>\n",
       "      <td>False</td>\n",
       "      <td>False</td>\n",
       "      <td>False</td>\n",
       "      <td>False</td>\n",
       "    </tr>\n",
       "    <tr>\n",
       "      <th>3</th>\n",
       "      <td>False</td>\n",
       "      <td>False</td>\n",
       "      <td>False</td>\n",
       "      <td>False</td>\n",
       "      <td>False</td>\n",
       "      <td>False</td>\n",
       "    </tr>\n",
       "    <tr>\n",
       "      <th>4</th>\n",
       "      <td>False</td>\n",
       "      <td>False</td>\n",
       "      <td>True</td>\n",
       "      <td>False</td>\n",
       "      <td>True</td>\n",
       "      <td>False</td>\n",
       "    </tr>\n",
       "    <tr>\n",
       "      <th>5</th>\n",
       "      <td>False</td>\n",
       "      <td>False</td>\n",
       "      <td>False</td>\n",
       "      <td>False</td>\n",
       "      <td>False</td>\n",
       "      <td>False</td>\n",
       "    </tr>\n",
       "    <tr>\n",
       "      <th>6</th>\n",
       "      <td>False</td>\n",
       "      <td>False</td>\n",
       "      <td>False</td>\n",
       "      <td>False</td>\n",
       "      <td>False</td>\n",
       "      <td>False</td>\n",
       "    </tr>\n",
       "    <tr>\n",
       "      <th>7</th>\n",
       "      <td>False</td>\n",
       "      <td>False</td>\n",
       "      <td>False</td>\n",
       "      <td>False</td>\n",
       "      <td>True</td>\n",
       "      <td>False</td>\n",
       "    </tr>\n",
       "    <tr>\n",
       "      <th>8</th>\n",
       "      <td>False</td>\n",
       "      <td>True</td>\n",
       "      <td>False</td>\n",
       "      <td>False</td>\n",
       "      <td>True</td>\n",
       "      <td>True</td>\n",
       "    </tr>\n",
       "    <tr>\n",
       "      <th>9</th>\n",
       "      <td>False</td>\n",
       "      <td>False</td>\n",
       "      <td>True</td>\n",
       "      <td>False</td>\n",
       "      <td>False</td>\n",
       "      <td>False</td>\n",
       "    </tr>\n",
       "  </tbody>\n",
       "</table>\n",
       "</div>"
      ],
      "text/plain": [
       "    Date  Horsepower  Fuel Efficiency (MPG)  Brand Reputation (Score 1-10)  \\\n",
       "0  False       False                  False                          False   \n",
       "1  False       False                  False                           True   \n",
       "2  False        True                  False                          False   \n",
       "3  False       False                  False                          False   \n",
       "4  False       False                   True                          False   \n",
       "5  False       False                  False                          False   \n",
       "6  False       False                  False                          False   \n",
       "7  False       False                  False                          False   \n",
       "8  False        True                  False                          False   \n",
       "9  False       False                   True                          False   \n",
       "\n",
       "   Model  Price (USD)  \n",
       "0  False        False  \n",
       "1  False        False  \n",
       "2  False        False  \n",
       "3  False        False  \n",
       "4   True        False  \n",
       "5  False        False  \n",
       "6  False        False  \n",
       "7   True        False  \n",
       "8   True         True  \n",
       "9  False        False  "
      ]
     },
     "execution_count": 63,
     "metadata": {},
     "output_type": "execute_result"
    }
   ],
   "source": [
    "#Checking missing values\n",
    "df_cars.isnull()"
   ]
  },
  {
   "cell_type": "code",
   "execution_count": 64,
   "id": "bf8c210a-f630-447c-9a89-6918bbc45a39",
   "metadata": {},
   "outputs": [
    {
     "data": {
      "text/html": [
       "<div>\n",
       "<style scoped>\n",
       "    .dataframe tbody tr th:only-of-type {\n",
       "        vertical-align: middle;\n",
       "    }\n",
       "\n",
       "    .dataframe tbody tr th {\n",
       "        vertical-align: top;\n",
       "    }\n",
       "\n",
       "    .dataframe thead th {\n",
       "        text-align: right;\n",
       "    }\n",
       "</style>\n",
       "<table border=\"1\" class=\"dataframe\">\n",
       "  <thead>\n",
       "    <tr style=\"text-align: right;\">\n",
       "      <th></th>\n",
       "      <th>Date</th>\n",
       "      <th>Horsepower</th>\n",
       "      <th>Fuel Efficiency (MPG)</th>\n",
       "      <th>Brand Reputation (Score 1-10)</th>\n",
       "      <th>Model</th>\n",
       "      <th>Price (USD)</th>\n",
       "    </tr>\n",
       "  </thead>\n",
       "  <tbody>\n",
       "    <tr>\n",
       "      <th>0</th>\n",
       "      <td>2/2/2024</td>\n",
       "      <td>220.0</td>\n",
       "      <td>32.0</td>\n",
       "      <td>8.0</td>\n",
       "      <td>Toyota</td>\n",
       "      <td>30000.0</td>\n",
       "    </tr>\n",
       "    <tr>\n",
       "      <th>3</th>\n",
       "      <td>9/23/2020</td>\n",
       "      <td>150.0</td>\n",
       "      <td>35.0</td>\n",
       "      <td>6.0</td>\n",
       "      <td>Hyundai</td>\n",
       "      <td>18000.0</td>\n",
       "    </tr>\n",
       "    <tr>\n",
       "      <th>5</th>\n",
       "      <td>10/14/2023</td>\n",
       "      <td>120.0</td>\n",
       "      <td>45.0</td>\n",
       "      <td>5.0</td>\n",
       "      <td>Mazda</td>\n",
       "      <td>15000.0</td>\n",
       "    </tr>\n",
       "    <tr>\n",
       "      <th>6</th>\n",
       "      <td>10/18/2022</td>\n",
       "      <td>280.0</td>\n",
       "      <td>22.0</td>\n",
       "      <td>9.0</td>\n",
       "      <td>BMW</td>\n",
       "      <td>42000.0</td>\n",
       "    </tr>\n",
       "  </tbody>\n",
       "</table>\n",
       "</div>"
      ],
      "text/plain": [
       "         Date  Horsepower  Fuel Efficiency (MPG)  \\\n",
       "0    2/2/2024       220.0                   32.0   \n",
       "3   9/23/2020       150.0                   35.0   \n",
       "5  10/14/2023       120.0                   45.0   \n",
       "6  10/18/2022       280.0                   22.0   \n",
       "\n",
       "   Brand Reputation (Score 1-10)    Model  Price (USD)  \n",
       "0                            8.0   Toyota      30000.0  \n",
       "3                            6.0  Hyundai      18000.0  \n",
       "5                            5.0    Mazda      15000.0  \n",
       "6                            9.0      BMW      42000.0  "
      ]
     },
     "execution_count": 64,
     "metadata": {},
     "output_type": "execute_result"
    }
   ],
   "source": [
    "#Method 1 Dropping missing values\n",
    "dropped = df_cars.dropna\n",
    "dropped()"
   ]
  },
  {
   "cell_type": "code",
   "execution_count": 65,
   "id": "b3dee8c1-10c9-4e0b-b927-b405db24a21a",
   "metadata": {},
   "outputs": [],
   "source": [
    "#Method 2 Imputation using mean for numerical values\n",
    "df_cars['Horsepower'] = df_cars['Horsepower'].fillna(df_cars['Horsepower'].mean())\n",
    "df_cars['Brand Reputation (Score 1-10)'] = df_cars['Brand Reputation (Score 1-10)'].fillna(df_cars['Brand Reputation (Score 1-10)'].mean())"
   ]
  },
  {
   "cell_type": "code",
   "execution_count": 66,
   "id": "6ab0645a-2907-4d83-86fa-2105e8c3e8cc",
   "metadata": {},
   "outputs": [],
   "source": [
    "#Method 3 Imputation using median for numerical values\n",
    "df_cars['Fuel Efficiency (MPG)'] = df_cars['Fuel Efficiency (MPG)'].fillna(df_cars['Fuel Efficiency (MPG)'].median())\n",
    "df_cars['Price (USD)'] = df_cars['Price (USD)'].fillna(df_cars['Price (USD)'].median())"
   ]
  },
  {
   "cell_type": "code",
   "execution_count": 67,
   "id": "6ade233b-68a6-40c3-bffe-25036d0e3978",
   "metadata": {},
   "outputs": [
    {
     "data": {
      "text/plain": [
       "0     Toyota\n",
       "1      Mazda\n",
       "2        BMW\n",
       "3    Hyundai\n",
       "4        NaN\n",
       "5      Mazda\n",
       "6        BMW\n",
       "7        NaN\n",
       "8        NaN\n",
       "9     Toyota\n",
       "Name: Model, dtype: object"
      ]
     },
     "execution_count": 67,
     "metadata": {},
     "output_type": "execute_result"
    }
   ],
   "source": [
    "#Method 4 Imputation using mode for categorical values\n",
    "df_cars['Model'] = df_cars['Model'].fillna(df_cars['Model'].mode())\n",
    "df_cars['Model']"
   ]
  },
  {
   "cell_type": "markdown",
   "id": "9ba9a3cb-9102-4977-96aa-c5d13318ec04",
   "metadata": {},
   "source": [
    "### Handling Duplicates"
   ]
  },
  {
   "cell_type": "code",
   "execution_count": 68,
   "id": "beeb11ed-8593-406d-8b9b-5141cf044418",
   "metadata": {},
   "outputs": [
    {
     "data": {
      "text/plain": [
       "0    False\n",
       "1    False\n",
       "2    False\n",
       "3    False\n",
       "4    False\n",
       "5    False\n",
       "6    False\n",
       "7    False\n",
       "8    False\n",
       "9    False\n",
       "dtype: bool"
      ]
     },
     "execution_count": 68,
     "metadata": {},
     "output_type": "execute_result"
    }
   ],
   "source": [
    "#checking for duplicates\n",
    "df_cars.duplicated()\n",
    "\n",
    "#The output shows we have no duplicates in our dataset"
   ]
  },
  {
   "cell_type": "markdown",
   "id": "facc5580-6bee-487f-a7e3-33b0815a4077",
   "metadata": {},
   "source": [
    "### Data Transformation"
   ]
  },
  {
   "cell_type": "code",
   "execution_count": 69,
   "id": "a0fc4899-c575-449e-a1f5-eaa83a06c40c",
   "metadata": {},
   "outputs": [
    {
     "data": {
      "text/html": [
       "<div>\n",
       "<style scoped>\n",
       "    .dataframe tbody tr th:only-of-type {\n",
       "        vertical-align: middle;\n",
       "    }\n",
       "\n",
       "    .dataframe tbody tr th {\n",
       "        vertical-align: top;\n",
       "    }\n",
       "\n",
       "    .dataframe thead th {\n",
       "        text-align: right;\n",
       "    }\n",
       "</style>\n",
       "<table border=\"1\" class=\"dataframe\">\n",
       "  <thead>\n",
       "    <tr style=\"text-align: right;\">\n",
       "      <th></th>\n",
       "      <th>Date</th>\n",
       "      <th>Horsepower</th>\n",
       "      <th>Fuel Efficiency (MPG)</th>\n",
       "      <th>Brand Reputation (Score 1-10)</th>\n",
       "      <th>Model</th>\n",
       "      <th>Price (USD)</th>\n",
       "    </tr>\n",
       "  </thead>\n",
       "  <tbody>\n",
       "    <tr>\n",
       "      <th>0</th>\n",
       "      <td>2/2/2024</td>\n",
       "      <td>220.00</td>\n",
       "      <td>32.0</td>\n",
       "      <td>8.000000</td>\n",
       "      <td>Toyota</td>\n",
       "      <td>30000.0</td>\n",
       "    </tr>\n",
       "    <tr>\n",
       "      <th>1</th>\n",
       "      <td>12/24/2022</td>\n",
       "      <td>180.00</td>\n",
       "      <td>40.0</td>\n",
       "      <td>7.333333</td>\n",
       "      <td>Mazda</td>\n",
       "      <td>22500.0</td>\n",
       "    </tr>\n",
       "    <tr>\n",
       "      <th>2</th>\n",
       "      <td>11/13/2023</td>\n",
       "      <td>213.75</td>\n",
       "      <td>25.0</td>\n",
       "      <td>9.000000</td>\n",
       "      <td>BMW</td>\n",
       "      <td>45000.0</td>\n",
       "    </tr>\n",
       "    <tr>\n",
       "      <th>3</th>\n",
       "      <td>9/23/2020</td>\n",
       "      <td>150.00</td>\n",
       "      <td>35.0</td>\n",
       "      <td>6.000000</td>\n",
       "      <td>Hyundai</td>\n",
       "      <td>18000.0</td>\n",
       "    </tr>\n",
       "    <tr>\n",
       "      <th>4</th>\n",
       "      <td>8/9/2021</td>\n",
       "      <td>250.00</td>\n",
       "      <td>34.5</td>\n",
       "      <td>8.000000</td>\n",
       "      <td>NaN</td>\n",
       "      <td>32000.0</td>\n",
       "    </tr>\n",
       "    <tr>\n",
       "      <th>5</th>\n",
       "      <td>10/14/2023</td>\n",
       "      <td>120.00</td>\n",
       "      <td>45.0</td>\n",
       "      <td>5.000000</td>\n",
       "      <td>Mazda</td>\n",
       "      <td>15000.0</td>\n",
       "    </tr>\n",
       "    <tr>\n",
       "      <th>6</th>\n",
       "      <td>10/18/2022</td>\n",
       "      <td>280.00</td>\n",
       "      <td>22.0</td>\n",
       "      <td>9.000000</td>\n",
       "      <td>BMW</td>\n",
       "      <td>42000.0</td>\n",
       "    </tr>\n",
       "    <tr>\n",
       "      <th>7</th>\n",
       "      <td>1/4/2024</td>\n",
       "      <td>190.00</td>\n",
       "      <td>34.0</td>\n",
       "      <td>7.000000</td>\n",
       "      <td>NaN</td>\n",
       "      <td>25000.0</td>\n",
       "    </tr>\n",
       "    <tr>\n",
       "      <th>8</th>\n",
       "      <td>9/27/2021</td>\n",
       "      <td>213.75</td>\n",
       "      <td>42.0</td>\n",
       "      <td>6.000000</td>\n",
       "      <td>NaN</td>\n",
       "      <td>30000.0</td>\n",
       "    </tr>\n",
       "    <tr>\n",
       "      <th>9</th>\n",
       "      <td>6/15/2023</td>\n",
       "      <td>320.00</td>\n",
       "      <td>34.5</td>\n",
       "      <td>8.000000</td>\n",
       "      <td>Toyota</td>\n",
       "      <td>48000.0</td>\n",
       "    </tr>\n",
       "  </tbody>\n",
       "</table>\n",
       "</div>"
      ],
      "text/plain": [
       "         Date  Horsepower  Fuel Efficiency (MPG)  \\\n",
       "0    2/2/2024      220.00                   32.0   \n",
       "1  12/24/2022      180.00                   40.0   \n",
       "2  11/13/2023      213.75                   25.0   \n",
       "3   9/23/2020      150.00                   35.0   \n",
       "4    8/9/2021      250.00                   34.5   \n",
       "5  10/14/2023      120.00                   45.0   \n",
       "6  10/18/2022      280.00                   22.0   \n",
       "7    1/4/2024      190.00                   34.0   \n",
       "8   9/27/2021      213.75                   42.0   \n",
       "9   6/15/2023      320.00                   34.5   \n",
       "\n",
       "   Brand Reputation (Score 1-10)    Model  Price (USD)  \n",
       "0                       8.000000   Toyota      30000.0  \n",
       "1                       7.333333    Mazda      22500.0  \n",
       "2                       9.000000      BMW      45000.0  \n",
       "3                       6.000000  Hyundai      18000.0  \n",
       "4                       8.000000      NaN      32000.0  \n",
       "5                       5.000000    Mazda      15000.0  \n",
       "6                       9.000000      BMW      42000.0  \n",
       "7                       7.000000      NaN      25000.0  \n",
       "8                       6.000000      NaN      30000.0  \n",
       "9                       8.000000   Toyota      48000.0  "
      ]
     },
     "execution_count": 69,
     "metadata": {},
     "output_type": "execute_result"
    }
   ],
   "source": [
    "df_cars"
   ]
  },
  {
   "cell_type": "code",
   "execution_count": 72,
   "id": "40e1b138-ef1e-408d-9848-70458ee26221",
   "metadata": {},
   "outputs": [
    {
     "name": "stdout",
     "output_type": "stream",
     "text": [
      "[[0.5    ]\n",
      " [0.3    ]\n",
      " [0.46875]\n",
      " [0.15   ]\n",
      " [0.65   ]\n",
      " [0.     ]\n",
      " [0.8    ]\n",
      " [0.35   ]\n",
      " [0.46875]\n",
      " [1.     ]]\n"
     ]
    }
   ],
   "source": [
    "from sklearn.preprocessing import MinMaxScaler\n",
    "scaler = MinMaxScaler()\n",
    "df_scaler = df_cars[['Horsepower']] = scaler.fit_transform(df_cars[['Horsepower']])\n",
    "print(df_scaler)\n",
    "#fit_transform computes the minimum and maximum values for each feature and scales the data accordingly"
   ]
  },
  {
   "cell_type": "markdown",
   "id": "2f3c8158-defc-4c9a-a899-c0d76d5af183",
   "metadata": {},
   "source": [
    "###  Type conversion"
   ]
  },
  {
   "cell_type": "code",
   "execution_count": 39,
   "id": "6dbb749b-197f-4de9-8306-a1ee93061ca6",
   "metadata": {},
   "outputs": [
    {
     "data": {
      "text/plain": [
       "Date                              object\n",
       "Horsepower                       float64\n",
       "Fuel Efficiency (MPG)            float64\n",
       "Brand Reputation (Score 1-10)    float64\n",
       "Model                             object\n",
       "Price (USD)                      float64\n",
       "dtype: object"
      ]
     },
     "execution_count": 39,
     "metadata": {},
     "output_type": "execute_result"
    }
   ],
   "source": [
    "#checking the data types in our data first\n",
    "df_cars.dtypes"
   ]
  },
  {
   "cell_type": "code",
   "execution_count": 40,
   "id": "70d71a32-1bf9-4bb6-a1ef-648a48f43a1e",
   "metadata": {},
   "outputs": [
    {
     "data": {
      "text/plain": [
       "Date                              object\n",
       "Horsepower                         int32\n",
       "Fuel Efficiency (MPG)            float64\n",
       "Brand Reputation (Score 1-10)      int32\n",
       "Model                             object\n",
       "Price (USD)                        int32\n",
       "dtype: object"
      ]
     },
     "execution_count": 40,
     "metadata": {},
     "output_type": "execute_result"
    }
   ],
   "source": [
    "#converting data types\n",
    "df_cars['Horsepower'] = df_cars['Horsepower'].astype(int)\n",
    "df_cars['Brand Reputation (Score 1-10)'] = df_cars['Brand Reputation (Score 1-10)'].astype(int)\n",
    "df_cars['Price (USD)'] = df_cars['Price (USD)'].astype(int)\n",
    "df_cars.dtypes"
   ]
  },
  {
   "cell_type": "markdown",
   "id": "f8f4df8b-0adb-4a3c-ac9e-766e723c7af1",
   "metadata": {},
   "source": [
    "## Data Merging and Joining (concatenation, merging, joining ~ inner, outer, left, right)"
   ]
  },
  {
   "cell_type": "code",
   "execution_count": 73,
   "id": "3346ef79-ebd1-4a0c-adf4-828c9180df9b",
   "metadata": {},
   "outputs": [
    {
     "data": {
      "text/html": [
       "<div>\n",
       "<style scoped>\n",
       "    .dataframe tbody tr th:only-of-type {\n",
       "        vertical-align: middle;\n",
       "    }\n",
       "\n",
       "    .dataframe tbody tr th {\n",
       "        vertical-align: top;\n",
       "    }\n",
       "\n",
       "    .dataframe thead th {\n",
       "        text-align: right;\n",
       "    }\n",
       "</style>\n",
       "<table border=\"1\" class=\"dataframe\">\n",
       "  <thead>\n",
       "    <tr style=\"text-align: right;\">\n",
       "      <th></th>\n",
       "      <th>Model Year</th>\n",
       "      <th>Horsepower</th>\n",
       "      <th>Fuel Efficiency (MPG)</th>\n",
       "      <th>Brand Reputation (Score 1-10)</th>\n",
       "      <th>Model</th>\n",
       "      <th>Price (USD)</th>\n",
       "    </tr>\n",
       "  </thead>\n",
       "  <tbody>\n",
       "    <tr>\n",
       "      <th>0</th>\n",
       "      <td>2016</td>\n",
       "      <td>300</td>\n",
       "      <td>50</td>\n",
       "      <td>7</td>\n",
       "      <td>Ford</td>\n",
       "      <td>41000</td>\n",
       "    </tr>\n",
       "  </tbody>\n",
       "</table>\n",
       "</div>"
      ],
      "text/plain": [
       "   Model Year  Horsepower  Fuel Efficiency (MPG)  \\\n",
       "0        2016         300                     50   \n",
       "\n",
       "   Brand Reputation (Score 1-10) Model  Price (USD)  \n",
       "0                              7  Ford        41000  "
      ]
     },
     "execution_count": 73,
     "metadata": {},
     "output_type": "execute_result"
    }
   ],
   "source": [
    "#using concat\n",
    "#new entry\n",
    "df_new = {\n",
    "    'Model Year': [2016],\n",
    "    'Horsepower': [300],\n",
    "    'Fuel Efficiency (MPG)': [50],\n",
    "    'Brand Reputation (Score 1-10)': [7],\n",
    "    'Model': ['Ford'],\n",
    "    'Price (USD)': [41000]\n",
    "}\n",
    "df_new = pd.DataFrame(df_new)\n",
    "df_new"
   ]
  },
  {
   "cell_type": "code",
   "execution_count": 74,
   "id": "599a809d-d12c-4bbb-9f02-6f0d083fc406",
   "metadata": {},
   "outputs": [
    {
     "data": {
      "text/html": [
       "<div>\n",
       "<style scoped>\n",
       "    .dataframe tbody tr th:only-of-type {\n",
       "        vertical-align: middle;\n",
       "    }\n",
       "\n",
       "    .dataframe tbody tr th {\n",
       "        vertical-align: top;\n",
       "    }\n",
       "\n",
       "    .dataframe thead th {\n",
       "        text-align: right;\n",
       "    }\n",
       "</style>\n",
       "<table border=\"1\" class=\"dataframe\">\n",
       "  <thead>\n",
       "    <tr style=\"text-align: right;\">\n",
       "      <th></th>\n",
       "      <th>Date</th>\n",
       "      <th>Horsepower</th>\n",
       "      <th>Fuel Efficiency (MPG)</th>\n",
       "      <th>Brand Reputation (Score 1-10)</th>\n",
       "      <th>Model</th>\n",
       "      <th>Price (USD)</th>\n",
       "      <th>Model Year</th>\n",
       "    </tr>\n",
       "  </thead>\n",
       "  <tbody>\n",
       "    <tr>\n",
       "      <th>0</th>\n",
       "      <td>2/2/2024</td>\n",
       "      <td>0.50000</td>\n",
       "      <td>32.0</td>\n",
       "      <td>8.000000</td>\n",
       "      <td>Toyota</td>\n",
       "      <td>30000.0</td>\n",
       "      <td>NaN</td>\n",
       "    </tr>\n",
       "    <tr>\n",
       "      <th>1</th>\n",
       "      <td>12/24/2022</td>\n",
       "      <td>0.30000</td>\n",
       "      <td>40.0</td>\n",
       "      <td>7.333333</td>\n",
       "      <td>Mazda</td>\n",
       "      <td>22500.0</td>\n",
       "      <td>NaN</td>\n",
       "    </tr>\n",
       "    <tr>\n",
       "      <th>2</th>\n",
       "      <td>11/13/2023</td>\n",
       "      <td>0.46875</td>\n",
       "      <td>25.0</td>\n",
       "      <td>9.000000</td>\n",
       "      <td>BMW</td>\n",
       "      <td>45000.0</td>\n",
       "      <td>NaN</td>\n",
       "    </tr>\n",
       "    <tr>\n",
       "      <th>3</th>\n",
       "      <td>9/23/2020</td>\n",
       "      <td>0.15000</td>\n",
       "      <td>35.0</td>\n",
       "      <td>6.000000</td>\n",
       "      <td>Hyundai</td>\n",
       "      <td>18000.0</td>\n",
       "      <td>NaN</td>\n",
       "    </tr>\n",
       "    <tr>\n",
       "      <th>4</th>\n",
       "      <td>8/9/2021</td>\n",
       "      <td>0.65000</td>\n",
       "      <td>34.5</td>\n",
       "      <td>8.000000</td>\n",
       "      <td>NaN</td>\n",
       "      <td>32000.0</td>\n",
       "      <td>NaN</td>\n",
       "    </tr>\n",
       "    <tr>\n",
       "      <th>5</th>\n",
       "      <td>10/14/2023</td>\n",
       "      <td>0.00000</td>\n",
       "      <td>45.0</td>\n",
       "      <td>5.000000</td>\n",
       "      <td>Mazda</td>\n",
       "      <td>15000.0</td>\n",
       "      <td>NaN</td>\n",
       "    </tr>\n",
       "    <tr>\n",
       "      <th>6</th>\n",
       "      <td>10/18/2022</td>\n",
       "      <td>0.80000</td>\n",
       "      <td>22.0</td>\n",
       "      <td>9.000000</td>\n",
       "      <td>BMW</td>\n",
       "      <td>42000.0</td>\n",
       "      <td>NaN</td>\n",
       "    </tr>\n",
       "    <tr>\n",
       "      <th>7</th>\n",
       "      <td>1/4/2024</td>\n",
       "      <td>0.35000</td>\n",
       "      <td>34.0</td>\n",
       "      <td>7.000000</td>\n",
       "      <td>NaN</td>\n",
       "      <td>25000.0</td>\n",
       "      <td>NaN</td>\n",
       "    </tr>\n",
       "    <tr>\n",
       "      <th>8</th>\n",
       "      <td>9/27/2021</td>\n",
       "      <td>0.46875</td>\n",
       "      <td>42.0</td>\n",
       "      <td>6.000000</td>\n",
       "      <td>NaN</td>\n",
       "      <td>30000.0</td>\n",
       "      <td>NaN</td>\n",
       "    </tr>\n",
       "    <tr>\n",
       "      <th>9</th>\n",
       "      <td>6/15/2023</td>\n",
       "      <td>1.00000</td>\n",
       "      <td>34.5</td>\n",
       "      <td>8.000000</td>\n",
       "      <td>Toyota</td>\n",
       "      <td>48000.0</td>\n",
       "      <td>NaN</td>\n",
       "    </tr>\n",
       "    <tr>\n",
       "      <th>0</th>\n",
       "      <td>NaN</td>\n",
       "      <td>300.00000</td>\n",
       "      <td>50.0</td>\n",
       "      <td>7.000000</td>\n",
       "      <td>Ford</td>\n",
       "      <td>41000.0</td>\n",
       "      <td>2016.0</td>\n",
       "    </tr>\n",
       "  </tbody>\n",
       "</table>\n",
       "</div>"
      ],
      "text/plain": [
       "         Date  Horsepower  Fuel Efficiency (MPG)  \\\n",
       "0    2/2/2024     0.50000                   32.0   \n",
       "1  12/24/2022     0.30000                   40.0   \n",
       "2  11/13/2023     0.46875                   25.0   \n",
       "3   9/23/2020     0.15000                   35.0   \n",
       "4    8/9/2021     0.65000                   34.5   \n",
       "5  10/14/2023     0.00000                   45.0   \n",
       "6  10/18/2022     0.80000                   22.0   \n",
       "7    1/4/2024     0.35000                   34.0   \n",
       "8   9/27/2021     0.46875                   42.0   \n",
       "9   6/15/2023     1.00000                   34.5   \n",
       "0         NaN   300.00000                   50.0   \n",
       "\n",
       "   Brand Reputation (Score 1-10)    Model  Price (USD)  Model Year  \n",
       "0                       8.000000   Toyota      30000.0         NaN  \n",
       "1                       7.333333    Mazda      22500.0         NaN  \n",
       "2                       9.000000      BMW      45000.0         NaN  \n",
       "3                       6.000000  Hyundai      18000.0         NaN  \n",
       "4                       8.000000      NaN      32000.0         NaN  \n",
       "5                       5.000000    Mazda      15000.0         NaN  \n",
       "6                       9.000000      BMW      42000.0         NaN  \n",
       "7                       7.000000      NaN      25000.0         NaN  \n",
       "8                       6.000000      NaN      30000.0         NaN  \n",
       "9                       8.000000   Toyota      48000.0         NaN  \n",
       "0                       7.000000     Ford      41000.0      2016.0  "
      ]
     },
     "execution_count": 74,
     "metadata": {},
     "output_type": "execute_result"
    }
   ],
   "source": [
    "frames = [df_cars,df_new]\n",
    "df_all = pd.concat(frames)\n",
    "df_all"
   ]
  },
  {
   "cell_type": "markdown",
   "id": "5e6ce356-3528-4bb5-ac39-c7adac95b901",
   "metadata": {},
   "source": [
    "### Joining Dataframes"
   ]
  },
  {
   "cell_type": "markdown",
   "id": "b2253681-dde7-4b4c-9923-3e15d972b310",
   "metadata": {},
   "source": [
    "#### Full Outer Join\n",
    "It combines the results of both the left and the right outer joins.\n",
    "The joined Dataframe will contain all records from both the DFs and fill in NaNs for missing matched on either side"
   ]
  },
  {
   "cell_type": "code",
   "execution_count": 75,
   "id": "e5856849-eb9d-42dc-ba9e-7655d285f772",
   "metadata": {},
   "outputs": [
    {
     "data": {
      "text/html": [
       "<div>\n",
       "<style scoped>\n",
       "    .dataframe tbody tr th:only-of-type {\n",
       "        vertical-align: middle;\n",
       "    }\n",
       "\n",
       "    .dataframe tbody tr th {\n",
       "        vertical-align: top;\n",
       "    }\n",
       "\n",
       "    .dataframe thead th {\n",
       "        text-align: right;\n",
       "    }\n",
       "</style>\n",
       "<table border=\"1\" class=\"dataframe\">\n",
       "  <thead>\n",
       "    <tr style=\"text-align: right;\">\n",
       "      <th></th>\n",
       "      <th>Model Year</th>\n",
       "      <th>Horsepower_x</th>\n",
       "      <th>Fuel Efficiency (MPG)_x</th>\n",
       "      <th>Brand Reputation (Score 1-10)_x</th>\n",
       "      <th>Model</th>\n",
       "      <th>Price (USD)_x</th>\n",
       "      <th>Date</th>\n",
       "      <th>Horsepower_y</th>\n",
       "      <th>Fuel Efficiency (MPG)_y</th>\n",
       "      <th>Brand Reputation (Score 1-10)_y</th>\n",
       "      <th>Price (USD)_y</th>\n",
       "    </tr>\n",
       "  </thead>\n",
       "  <tbody>\n",
       "    <tr>\n",
       "      <th>0</th>\n",
       "      <td>2016.0</td>\n",
       "      <td>300.0</td>\n",
       "      <td>50.0</td>\n",
       "      <td>7.0</td>\n",
       "      <td>Ford</td>\n",
       "      <td>41000.0</td>\n",
       "      <td>NaN</td>\n",
       "      <td>NaN</td>\n",
       "      <td>NaN</td>\n",
       "      <td>NaN</td>\n",
       "      <td>NaN</td>\n",
       "    </tr>\n",
       "    <tr>\n",
       "      <th>1</th>\n",
       "      <td>NaN</td>\n",
       "      <td>NaN</td>\n",
       "      <td>NaN</td>\n",
       "      <td>NaN</td>\n",
       "      <td>Toyota</td>\n",
       "      <td>NaN</td>\n",
       "      <td>2/2/2024</td>\n",
       "      <td>0.5</td>\n",
       "      <td>32.0</td>\n",
       "      <td>8.000000</td>\n",
       "      <td>30000.0</td>\n",
       "    </tr>\n",
       "    <tr>\n",
       "      <th>2</th>\n",
       "      <td>NaN</td>\n",
       "      <td>NaN</td>\n",
       "      <td>NaN</td>\n",
       "      <td>NaN</td>\n",
       "      <td>Toyota</td>\n",
       "      <td>NaN</td>\n",
       "      <td>6/15/2023</td>\n",
       "      <td>1.0</td>\n",
       "      <td>34.5</td>\n",
       "      <td>8.000000</td>\n",
       "      <td>48000.0</td>\n",
       "    </tr>\n",
       "    <tr>\n",
       "      <th>3</th>\n",
       "      <td>NaN</td>\n",
       "      <td>NaN</td>\n",
       "      <td>NaN</td>\n",
       "      <td>NaN</td>\n",
       "      <td>Mazda</td>\n",
       "      <td>NaN</td>\n",
       "      <td>12/24/2022</td>\n",
       "      <td>0.3</td>\n",
       "      <td>40.0</td>\n",
       "      <td>7.333333</td>\n",
       "      <td>22500.0</td>\n",
       "    </tr>\n",
       "    <tr>\n",
       "      <th>4</th>\n",
       "      <td>NaN</td>\n",
       "      <td>NaN</td>\n",
       "      <td>NaN</td>\n",
       "      <td>NaN</td>\n",
       "      <td>Mazda</td>\n",
       "      <td>NaN</td>\n",
       "      <td>10/14/2023</td>\n",
       "      <td>0.0</td>\n",
       "      <td>45.0</td>\n",
       "      <td>5.000000</td>\n",
       "      <td>15000.0</td>\n",
       "    </tr>\n",
       "  </tbody>\n",
       "</table>\n",
       "</div>"
      ],
      "text/plain": [
       "   Model Year  Horsepower_x  Fuel Efficiency (MPG)_x  \\\n",
       "0      2016.0         300.0                     50.0   \n",
       "1         NaN           NaN                      NaN   \n",
       "2         NaN           NaN                      NaN   \n",
       "3         NaN           NaN                      NaN   \n",
       "4         NaN           NaN                      NaN   \n",
       "\n",
       "   Brand Reputation (Score 1-10)_x   Model  Price (USD)_x        Date  \\\n",
       "0                              7.0    Ford        41000.0         NaN   \n",
       "1                              NaN  Toyota            NaN    2/2/2024   \n",
       "2                              NaN  Toyota            NaN   6/15/2023   \n",
       "3                              NaN   Mazda            NaN  12/24/2022   \n",
       "4                              NaN   Mazda            NaN  10/14/2023   \n",
       "\n",
       "   Horsepower_y  Fuel Efficiency (MPG)_y  Brand Reputation (Score 1-10)_y  \\\n",
       "0           NaN                      NaN                              NaN   \n",
       "1           0.5                     32.0                         8.000000   \n",
       "2           1.0                     34.5                         8.000000   \n",
       "3           0.3                     40.0                         7.333333   \n",
       "4           0.0                     45.0                         5.000000   \n",
       "\n",
       "   Price (USD)_y  \n",
       "0            NaN  \n",
       "1        30000.0  \n",
       "2        48000.0  \n",
       "3        22500.0  \n",
       "4        15000.0  "
      ]
     },
     "execution_count": 75,
     "metadata": {},
     "output_type": "execute_result"
    }
   ],
   "source": [
    "df_outer = pd.merge(df_new,df_cars, on = 'Model', how = 'outer')\n",
    "df_outer.head()"
   ]
  },
  {
   "cell_type": "markdown",
   "id": "d9da0ccb-8132-45d5-bec9-294a2d1da5a4",
   "metadata": {},
   "source": [
    "#### Inner Join\n",
    "It produces only a set of records that match in both DFs"
   ]
  },
  {
   "cell_type": "code",
   "execution_count": 76,
   "id": "5c1dd2d7-89a2-4540-8a97-56ce30cc8fbc",
   "metadata": {},
   "outputs": [
    {
     "data": {
      "text/html": [
       "<div>\n",
       "<style scoped>\n",
       "    .dataframe tbody tr th:only-of-type {\n",
       "        vertical-align: middle;\n",
       "    }\n",
       "\n",
       "    .dataframe tbody tr th {\n",
       "        vertical-align: top;\n",
       "    }\n",
       "\n",
       "    .dataframe thead th {\n",
       "        text-align: right;\n",
       "    }\n",
       "</style>\n",
       "<table border=\"1\" class=\"dataframe\">\n",
       "  <thead>\n",
       "    <tr style=\"text-align: right;\">\n",
       "      <th></th>\n",
       "      <th>Model Year</th>\n",
       "      <th>Horsepower_x</th>\n",
       "      <th>Fuel Efficiency (MPG)_x</th>\n",
       "      <th>Brand Reputation (Score 1-10)_x</th>\n",
       "      <th>Model</th>\n",
       "      <th>Price (USD)_x</th>\n",
       "      <th>Date</th>\n",
       "      <th>Horsepower_y</th>\n",
       "      <th>Fuel Efficiency (MPG)_y</th>\n",
       "      <th>Brand Reputation (Score 1-10)_y</th>\n",
       "      <th>Price (USD)_y</th>\n",
       "    </tr>\n",
       "  </thead>\n",
       "  <tbody>\n",
       "  </tbody>\n",
       "</table>\n",
       "</div>"
      ],
      "text/plain": [
       "Empty DataFrame\n",
       "Columns: [Model Year, Horsepower_x, Fuel Efficiency (MPG)_x, Brand Reputation (Score 1-10)_x, Model, Price (USD)_x, Date, Horsepower_y, Fuel Efficiency (MPG)_y, Brand Reputation (Score 1-10)_y, Price (USD)_y]\n",
       "Index: []"
      ]
     },
     "execution_count": 76,
     "metadata": {},
     "output_type": "execute_result"
    }
   ],
   "source": [
    "df_inner = pd.merge(df_new,df_cars, on = 'Model', how = 'inner')\n",
    "df_inner"
   ]
  },
  {
   "cell_type": "markdown",
   "id": "f6813fac-3f02-42b5-ad7e-606baadc3c82",
   "metadata": {},
   "source": [
    "#### Right Join\n",
    "Produces a complete set of records from df_cars(right) with matching records in df_new(left) if available.\n",
    "If there is no match, the right side will contain null"
   ]
  },
  {
   "cell_type": "code",
   "execution_count": 77,
   "id": "ad61196d-6b40-46d1-9f6d-dee6675499ab",
   "metadata": {},
   "outputs": [
    {
     "data": {
      "text/html": [
       "<div>\n",
       "<style scoped>\n",
       "    .dataframe tbody tr th:only-of-type {\n",
       "        vertical-align: middle;\n",
       "    }\n",
       "\n",
       "    .dataframe tbody tr th {\n",
       "        vertical-align: top;\n",
       "    }\n",
       "\n",
       "    .dataframe thead th {\n",
       "        text-align: right;\n",
       "    }\n",
       "</style>\n",
       "<table border=\"1\" class=\"dataframe\">\n",
       "  <thead>\n",
       "    <tr style=\"text-align: right;\">\n",
       "      <th></th>\n",
       "      <th>Model Year</th>\n",
       "      <th>Horsepower_x</th>\n",
       "      <th>Fuel Efficiency (MPG)_x</th>\n",
       "      <th>Brand Reputation (Score 1-10)_x</th>\n",
       "      <th>Model</th>\n",
       "      <th>Price (USD)_x</th>\n",
       "      <th>Date</th>\n",
       "      <th>Horsepower_y</th>\n",
       "      <th>Fuel Efficiency (MPG)_y</th>\n",
       "      <th>Brand Reputation (Score 1-10)_y</th>\n",
       "      <th>Price (USD)_y</th>\n",
       "    </tr>\n",
       "  </thead>\n",
       "  <tbody>\n",
       "    <tr>\n",
       "      <th>0</th>\n",
       "      <td>NaN</td>\n",
       "      <td>NaN</td>\n",
       "      <td>NaN</td>\n",
       "      <td>NaN</td>\n",
       "      <td>Toyota</td>\n",
       "      <td>NaN</td>\n",
       "      <td>2/2/2024</td>\n",
       "      <td>0.50000</td>\n",
       "      <td>32.0</td>\n",
       "      <td>8.000000</td>\n",
       "      <td>30000.0</td>\n",
       "    </tr>\n",
       "    <tr>\n",
       "      <th>1</th>\n",
       "      <td>NaN</td>\n",
       "      <td>NaN</td>\n",
       "      <td>NaN</td>\n",
       "      <td>NaN</td>\n",
       "      <td>Mazda</td>\n",
       "      <td>NaN</td>\n",
       "      <td>12/24/2022</td>\n",
       "      <td>0.30000</td>\n",
       "      <td>40.0</td>\n",
       "      <td>7.333333</td>\n",
       "      <td>22500.0</td>\n",
       "    </tr>\n",
       "    <tr>\n",
       "      <th>2</th>\n",
       "      <td>NaN</td>\n",
       "      <td>NaN</td>\n",
       "      <td>NaN</td>\n",
       "      <td>NaN</td>\n",
       "      <td>BMW</td>\n",
       "      <td>NaN</td>\n",
       "      <td>11/13/2023</td>\n",
       "      <td>0.46875</td>\n",
       "      <td>25.0</td>\n",
       "      <td>9.000000</td>\n",
       "      <td>45000.0</td>\n",
       "    </tr>\n",
       "    <tr>\n",
       "      <th>3</th>\n",
       "      <td>NaN</td>\n",
       "      <td>NaN</td>\n",
       "      <td>NaN</td>\n",
       "      <td>NaN</td>\n",
       "      <td>Hyundai</td>\n",
       "      <td>NaN</td>\n",
       "      <td>9/23/2020</td>\n",
       "      <td>0.15000</td>\n",
       "      <td>35.0</td>\n",
       "      <td>6.000000</td>\n",
       "      <td>18000.0</td>\n",
       "    </tr>\n",
       "    <tr>\n",
       "      <th>4</th>\n",
       "      <td>NaN</td>\n",
       "      <td>NaN</td>\n",
       "      <td>NaN</td>\n",
       "      <td>NaN</td>\n",
       "      <td>NaN</td>\n",
       "      <td>NaN</td>\n",
       "      <td>8/9/2021</td>\n",
       "      <td>0.65000</td>\n",
       "      <td>34.5</td>\n",
       "      <td>8.000000</td>\n",
       "      <td>32000.0</td>\n",
       "    </tr>\n",
       "    <tr>\n",
       "      <th>5</th>\n",
       "      <td>NaN</td>\n",
       "      <td>NaN</td>\n",
       "      <td>NaN</td>\n",
       "      <td>NaN</td>\n",
       "      <td>Mazda</td>\n",
       "      <td>NaN</td>\n",
       "      <td>10/14/2023</td>\n",
       "      <td>0.00000</td>\n",
       "      <td>45.0</td>\n",
       "      <td>5.000000</td>\n",
       "      <td>15000.0</td>\n",
       "    </tr>\n",
       "    <tr>\n",
       "      <th>6</th>\n",
       "      <td>NaN</td>\n",
       "      <td>NaN</td>\n",
       "      <td>NaN</td>\n",
       "      <td>NaN</td>\n",
       "      <td>BMW</td>\n",
       "      <td>NaN</td>\n",
       "      <td>10/18/2022</td>\n",
       "      <td>0.80000</td>\n",
       "      <td>22.0</td>\n",
       "      <td>9.000000</td>\n",
       "      <td>42000.0</td>\n",
       "    </tr>\n",
       "    <tr>\n",
       "      <th>7</th>\n",
       "      <td>NaN</td>\n",
       "      <td>NaN</td>\n",
       "      <td>NaN</td>\n",
       "      <td>NaN</td>\n",
       "      <td>NaN</td>\n",
       "      <td>NaN</td>\n",
       "      <td>1/4/2024</td>\n",
       "      <td>0.35000</td>\n",
       "      <td>34.0</td>\n",
       "      <td>7.000000</td>\n",
       "      <td>25000.0</td>\n",
       "    </tr>\n",
       "    <tr>\n",
       "      <th>8</th>\n",
       "      <td>NaN</td>\n",
       "      <td>NaN</td>\n",
       "      <td>NaN</td>\n",
       "      <td>NaN</td>\n",
       "      <td>NaN</td>\n",
       "      <td>NaN</td>\n",
       "      <td>9/27/2021</td>\n",
       "      <td>0.46875</td>\n",
       "      <td>42.0</td>\n",
       "      <td>6.000000</td>\n",
       "      <td>30000.0</td>\n",
       "    </tr>\n",
       "    <tr>\n",
       "      <th>9</th>\n",
       "      <td>NaN</td>\n",
       "      <td>NaN</td>\n",
       "      <td>NaN</td>\n",
       "      <td>NaN</td>\n",
       "      <td>Toyota</td>\n",
       "      <td>NaN</td>\n",
       "      <td>6/15/2023</td>\n",
       "      <td>1.00000</td>\n",
       "      <td>34.5</td>\n",
       "      <td>8.000000</td>\n",
       "      <td>48000.0</td>\n",
       "    </tr>\n",
       "  </tbody>\n",
       "</table>\n",
       "</div>"
      ],
      "text/plain": [
       "   Model Year  Horsepower_x  Fuel Efficiency (MPG)_x  \\\n",
       "0         NaN           NaN                      NaN   \n",
       "1         NaN           NaN                      NaN   \n",
       "2         NaN           NaN                      NaN   \n",
       "3         NaN           NaN                      NaN   \n",
       "4         NaN           NaN                      NaN   \n",
       "5         NaN           NaN                      NaN   \n",
       "6         NaN           NaN                      NaN   \n",
       "7         NaN           NaN                      NaN   \n",
       "8         NaN           NaN                      NaN   \n",
       "9         NaN           NaN                      NaN   \n",
       "\n",
       "   Brand Reputation (Score 1-10)_x    Model  Price (USD)_x        Date  \\\n",
       "0                              NaN   Toyota            NaN    2/2/2024   \n",
       "1                              NaN    Mazda            NaN  12/24/2022   \n",
       "2                              NaN      BMW            NaN  11/13/2023   \n",
       "3                              NaN  Hyundai            NaN   9/23/2020   \n",
       "4                              NaN      NaN            NaN    8/9/2021   \n",
       "5                              NaN    Mazda            NaN  10/14/2023   \n",
       "6                              NaN      BMW            NaN  10/18/2022   \n",
       "7                              NaN      NaN            NaN    1/4/2024   \n",
       "8                              NaN      NaN            NaN   9/27/2021   \n",
       "9                              NaN   Toyota            NaN   6/15/2023   \n",
       "\n",
       "   Horsepower_y  Fuel Efficiency (MPG)_y  Brand Reputation (Score 1-10)_y  \\\n",
       "0       0.50000                     32.0                         8.000000   \n",
       "1       0.30000                     40.0                         7.333333   \n",
       "2       0.46875                     25.0                         9.000000   \n",
       "3       0.15000                     35.0                         6.000000   \n",
       "4       0.65000                     34.5                         8.000000   \n",
       "5       0.00000                     45.0                         5.000000   \n",
       "6       0.80000                     22.0                         9.000000   \n",
       "7       0.35000                     34.0                         7.000000   \n",
       "8       0.46875                     42.0                         6.000000   \n",
       "9       1.00000                     34.5                         8.000000   \n",
       "\n",
       "   Price (USD)_y  \n",
       "0        30000.0  \n",
       "1        22500.0  \n",
       "2        45000.0  \n",
       "3        18000.0  \n",
       "4        32000.0  \n",
       "5        15000.0  \n",
       "6        42000.0  \n",
       "7        25000.0  \n",
       "8        30000.0  \n",
       "9        48000.0  "
      ]
     },
     "execution_count": 77,
     "metadata": {},
     "output_type": "execute_result"
    }
   ],
   "source": [
    "df_right = pd.merge(df_new,df_cars, on = 'Model', how = 'right')\n",
    "df_right"
   ]
  },
  {
   "cell_type": "markdown",
   "id": "00195ab0-0728-4cf3-b7fd-ed6393ddb4ee",
   "metadata": {},
   "source": [
    "#### Left Join\n",
    "Produces a complete set of records from df_new(left) with matching records in df_new(right) if available.\n",
    "If there is no match, the left side will contain null"
   ]
  },
  {
   "cell_type": "code",
   "execution_count": 78,
   "id": "13a02ab2-3969-4cdf-ad41-a13d33350da1",
   "metadata": {},
   "outputs": [
    {
     "data": {
      "text/html": [
       "<div>\n",
       "<style scoped>\n",
       "    .dataframe tbody tr th:only-of-type {\n",
       "        vertical-align: middle;\n",
       "    }\n",
       "\n",
       "    .dataframe tbody tr th {\n",
       "        vertical-align: top;\n",
       "    }\n",
       "\n",
       "    .dataframe thead th {\n",
       "        text-align: right;\n",
       "    }\n",
       "</style>\n",
       "<table border=\"1\" class=\"dataframe\">\n",
       "  <thead>\n",
       "    <tr style=\"text-align: right;\">\n",
       "      <th></th>\n",
       "      <th>Model Year</th>\n",
       "      <th>Horsepower_x</th>\n",
       "      <th>Fuel Efficiency (MPG)_x</th>\n",
       "      <th>Brand Reputation (Score 1-10)_x</th>\n",
       "      <th>Model</th>\n",
       "      <th>Price (USD)_x</th>\n",
       "      <th>Date</th>\n",
       "      <th>Horsepower_y</th>\n",
       "      <th>Fuel Efficiency (MPG)_y</th>\n",
       "      <th>Brand Reputation (Score 1-10)_y</th>\n",
       "      <th>Price (USD)_y</th>\n",
       "    </tr>\n",
       "  </thead>\n",
       "  <tbody>\n",
       "    <tr>\n",
       "      <th>0</th>\n",
       "      <td>2016</td>\n",
       "      <td>300</td>\n",
       "      <td>50</td>\n",
       "      <td>7</td>\n",
       "      <td>Ford</td>\n",
       "      <td>41000</td>\n",
       "      <td>NaN</td>\n",
       "      <td>NaN</td>\n",
       "      <td>NaN</td>\n",
       "      <td>NaN</td>\n",
       "      <td>NaN</td>\n",
       "    </tr>\n",
       "  </tbody>\n",
       "</table>\n",
       "</div>"
      ],
      "text/plain": [
       "   Model Year  Horsepower_x  Fuel Efficiency (MPG)_x  \\\n",
       "0        2016           300                       50   \n",
       "\n",
       "   Brand Reputation (Score 1-10)_x Model  Price (USD)_x Date  Horsepower_y  \\\n",
       "0                                7  Ford          41000  NaN           NaN   \n",
       "\n",
       "   Fuel Efficiency (MPG)_y  Brand Reputation (Score 1-10)_y  Price (USD)_y  \n",
       "0                      NaN                              NaN            NaN  "
      ]
     },
     "execution_count": 78,
     "metadata": {},
     "output_type": "execute_result"
    }
   ],
   "source": [
    "df_left = pd.merge(df_new,df_cars, on = 'Model', how = 'left')\n",
    "df_left"
   ]
  },
  {
   "cell_type": "markdown",
   "id": "9a8feb40-ec77-49c2-834c-20f950ded105",
   "metadata": {},
   "source": [
    "### Cleaning Up Textual Data (Use of Regular Expression - Regex, .str accessor)"
   ]
  },
  {
   "cell_type": "code",
   "execution_count": null,
   "id": "dd1c6f33-151e-470a-965f-071ad2240ec2",
   "metadata": {},
   "outputs": [],
   "source": []
  },
  {
   "cell_type": "markdown",
   "id": "e30a0510-24f2-438f-9804-6c4ef70c5f30",
   "metadata": {},
   "source": [
    "### Dealing with Dates (Date conversion dt accessor)"
   ]
  },
  {
   "cell_type": "code",
   "execution_count": 79,
   "id": "f039f06e-e744-461a-a47a-d621c40cfe83",
   "metadata": {},
   "outputs": [
    {
     "name": "stdout",
     "output_type": "stream",
     "text": [
      "        Date  Horsepower  Fuel Efficiency (MPG)  \\\n",
      "0 2024-02-02     0.50000                   32.0   \n",
      "1 2022-12-24     0.30000                   40.0   \n",
      "2 2023-11-13     0.46875                   25.0   \n",
      "3 2020-09-23     0.15000                   35.0   \n",
      "4 2021-08-09     0.65000                   34.5   \n",
      "5 2023-10-14     0.00000                   45.0   \n",
      "6 2022-10-18     0.80000                   22.0   \n",
      "7 2024-01-04     0.35000                   34.0   \n",
      "8 2021-09-27     0.46875                   42.0   \n",
      "9 2023-06-15     1.00000                   34.5   \n",
      "\n",
      "   Brand Reputation (Score 1-10)    Model  Price (USD)  \n",
      "0                       8.000000   Toyota      30000.0  \n",
      "1                       7.333333    Mazda      22500.0  \n",
      "2                       9.000000      BMW      45000.0  \n",
      "3                       6.000000  Hyundai      18000.0  \n",
      "4                       8.000000      NaN      32000.0  \n",
      "5                       5.000000    Mazda      15000.0  \n",
      "6                       9.000000      BMW      42000.0  \n",
      "7                       7.000000      NaN      25000.0  \n",
      "8                       6.000000      NaN      30000.0  \n",
      "9                       8.000000   Toyota      48000.0  \n"
     ]
    }
   ],
   "source": [
    "df_cars['Date'] = pd.to_datetime(df_cars['Date'])\n",
    "print(df_cars)"
   ]
  },
  {
   "cell_type": "code",
   "execution_count": 50,
   "id": "38610142-4882-48f8-ba4d-0d50a2134eab",
   "metadata": {},
   "outputs": [
    {
     "data": {
      "text/plain": [
       "0    2024\n",
       "1    2022\n",
       "2    2023\n",
       "3    2020\n",
       "4    2021\n",
       "5    2023\n",
       "6    2022\n",
       "7    2024\n",
       "8    2021\n",
       "9    2023\n",
       "Name: year, dtype: int32"
      ]
     },
     "execution_count": 50,
     "metadata": {},
     "output_type": "execute_result"
    }
   ],
   "source": [
    "#Accessing date components using dt accessor\n",
    "df_cars['year'] = df_cars['Date'].dt.year\n",
    "df_cars['year']"
   ]
  },
  {
   "cell_type": "code",
   "execution_count": 51,
   "id": "b29fe635-72bc-4a4d-8352-40a4f65e9d44",
   "metadata": {},
   "outputs": [
    {
     "data": {
      "text/plain": [
       "0     2\n",
       "1    12\n",
       "2    11\n",
       "3     9\n",
       "4     8\n",
       "5    10\n",
       "6    10\n",
       "7     1\n",
       "8     9\n",
       "9     6\n",
       "Name: month, dtype: int32"
      ]
     },
     "execution_count": 51,
     "metadata": {},
     "output_type": "execute_result"
    }
   ],
   "source": [
    "df_cars['month'] = df_cars['Date'].dt.month\n",
    "df_cars['month']"
   ]
  },
  {
   "cell_type": "markdown",
   "id": "eafe3a84-8648-4a37-b4f7-ed8d0680a8a1",
   "metadata": {},
   "source": [
    "## 5: Python for Data Analysis (Exploratory Data Analysis and Visualization)"
   ]
  },
  {
   "cell_type": "markdown",
   "id": "b0391eb6-a3a6-46bc-82ac-7f13b30b6f54",
   "metadata": {},
   "source": [
    "### Data aggregation (aggregation functions (sum, mean, median, min, max, describe))"
   ]
  },
  {
   "cell_type": "code",
   "execution_count": 81,
   "id": "1e387b53-3b85-4519-b8f0-342c7acedbb1",
   "metadata": {},
   "outputs": [
    {
     "name": "stdout",
     "output_type": "stream",
     "text": [
      "48000.0 307500.0 15000.0 30000.0\n"
     ]
    }
   ],
   "source": [
    "price_max = df_cars['Price (USD)'].max()\n",
    "price_sum = df_cars['Price (USD)'].sum()\n",
    "price_min = df_cars['Price (USD)'].min()\n",
    "price_median = df_cars['Price (USD)'].median()\n",
    "\n",
    "print(price_max,price_sum,price_min,price_median)"
   ]
  },
  {
   "cell_type": "code",
   "execution_count": 83,
   "id": "1d6246f0-9cf8-4167-8826-828f687ae68a",
   "metadata": {},
   "outputs": [
    {
     "data": {
      "text/html": [
       "<div>\n",
       "<style scoped>\n",
       "    .dataframe tbody tr th:only-of-type {\n",
       "        vertical-align: middle;\n",
       "    }\n",
       "\n",
       "    .dataframe tbody tr th {\n",
       "        vertical-align: top;\n",
       "    }\n",
       "\n",
       "    .dataframe thead th {\n",
       "        text-align: right;\n",
       "    }\n",
       "</style>\n",
       "<table border=\"1\" class=\"dataframe\">\n",
       "  <thead>\n",
       "    <tr style=\"text-align: right;\">\n",
       "      <th></th>\n",
       "      <th>Date</th>\n",
       "      <th>Horsepower</th>\n",
       "      <th>Fuel Efficiency (MPG)</th>\n",
       "      <th>Brand Reputation (Score 1-10)</th>\n",
       "      <th>Price (USD)</th>\n",
       "    </tr>\n",
       "  </thead>\n",
       "  <tbody>\n",
       "    <tr>\n",
       "      <th>count</th>\n",
       "      <td>10</td>\n",
       "      <td>10.000000</td>\n",
       "      <td>10.000000</td>\n",
       "      <td>10.000000</td>\n",
       "      <td>10.000000</td>\n",
       "    </tr>\n",
       "    <tr>\n",
       "      <th>mean</th>\n",
       "      <td>2022-11-26 19:12:00</td>\n",
       "      <td>0.468750</td>\n",
       "      <td>34.400000</td>\n",
       "      <td>7.333333</td>\n",
       "      <td>30750.000000</td>\n",
       "    </tr>\n",
       "    <tr>\n",
       "      <th>min</th>\n",
       "      <td>2020-09-23 00:00:00</td>\n",
       "      <td>0.000000</td>\n",
       "      <td>22.000000</td>\n",
       "      <td>5.000000</td>\n",
       "      <td>15000.000000</td>\n",
       "    </tr>\n",
       "    <tr>\n",
       "      <th>25%</th>\n",
       "      <td>2022-01-01 12:00:00</td>\n",
       "      <td>0.312500</td>\n",
       "      <td>32.500000</td>\n",
       "      <td>6.250000</td>\n",
       "      <td>23125.000000</td>\n",
       "    </tr>\n",
       "    <tr>\n",
       "      <th>50%</th>\n",
       "      <td>2023-03-20 12:00:00</td>\n",
       "      <td>0.468750</td>\n",
       "      <td>34.500000</td>\n",
       "      <td>7.666667</td>\n",
       "      <td>30000.000000</td>\n",
       "    </tr>\n",
       "    <tr>\n",
       "      <th>75%</th>\n",
       "      <td>2023-11-05 12:00:00</td>\n",
       "      <td>0.612500</td>\n",
       "      <td>38.750000</td>\n",
       "      <td>8.000000</td>\n",
       "      <td>39500.000000</td>\n",
       "    </tr>\n",
       "    <tr>\n",
       "      <th>max</th>\n",
       "      <td>2024-02-02 00:00:00</td>\n",
       "      <td>1.000000</td>\n",
       "      <td>45.000000</td>\n",
       "      <td>9.000000</td>\n",
       "      <td>48000.000000</td>\n",
       "    </tr>\n",
       "    <tr>\n",
       "      <th>std</th>\n",
       "      <td>NaN</td>\n",
       "      <td>0.296215</td>\n",
       "      <td>7.070282</td>\n",
       "      <td>1.333333</td>\n",
       "      <td>11262.647212</td>\n",
       "    </tr>\n",
       "  </tbody>\n",
       "</table>\n",
       "</div>"
      ],
      "text/plain": [
       "                      Date  Horsepower  Fuel Efficiency (MPG)  \\\n",
       "count                   10   10.000000              10.000000   \n",
       "mean   2022-11-26 19:12:00    0.468750              34.400000   \n",
       "min    2020-09-23 00:00:00    0.000000              22.000000   \n",
       "25%    2022-01-01 12:00:00    0.312500              32.500000   \n",
       "50%    2023-03-20 12:00:00    0.468750              34.500000   \n",
       "75%    2023-11-05 12:00:00    0.612500              38.750000   \n",
       "max    2024-02-02 00:00:00    1.000000              45.000000   \n",
       "std                    NaN    0.296215               7.070282   \n",
       "\n",
       "       Brand Reputation (Score 1-10)   Price (USD)  \n",
       "count                      10.000000     10.000000  \n",
       "mean                        7.333333  30750.000000  \n",
       "min                         5.000000  15000.000000  \n",
       "25%                         6.250000  23125.000000  \n",
       "50%                         7.666667  30000.000000  \n",
       "75%                         8.000000  39500.000000  \n",
       "max                         9.000000  48000.000000  \n",
       "std                         1.333333  11262.647212  "
      ]
     },
     "execution_count": 83,
     "metadata": {},
     "output_type": "execute_result"
    }
   ],
   "source": [
    "#using describe to get all data aggregations\n",
    "df_cars.describe()"
   ]
  },
  {
   "cell_type": "markdown",
   "id": "a4fbd8b3-018c-4395-9988-8f95aa6c6ab2",
   "metadata": {},
   "source": [
    "### Restructuring Data (melt, unstack, stack)\n",
    "These 3 methods are used to restructure data, we will explore each of them"
   ]
  },
  {
   "cell_type": "code",
   "execution_count": 87,
   "id": "690082d7-adb9-4f40-95f7-a387d752aacb",
   "metadata": {},
   "outputs": [
    {
     "data": {
      "text/plain": [
       "0  Date                             2024-02-02 00:00:00\n",
       "   Horsepower                                       0.5\n",
       "   Fuel Efficiency (MPG)                           32.0\n",
       "   Brand Reputation (Score 1-10)                    8.0\n",
       "   Model                                         Toyota\n",
       "dtype: object"
      ]
     },
     "execution_count": 87,
     "metadata": {},
     "output_type": "execute_result"
    }
   ],
   "source": [
    "#The stack() method works with the MultiIndex objects in DataFrame, \n",
    "#it returns a DataFrame with an index with a new inner-most level of row labels. It changes the wide table to a long table.\n",
    "stacked = df_cars.stack()\n",
    "stacked.head()"
   ]
  },
  {
   "cell_type": "code",
   "execution_count": 88,
   "id": "b00bd80b-3393-4251-a606-4835c5d6bb3b",
   "metadata": {},
   "outputs": [
    {
     "data": {
      "text/html": [
       "<div>\n",
       "<style scoped>\n",
       "    .dataframe tbody tr th:only-of-type {\n",
       "        vertical-align: middle;\n",
       "    }\n",
       "\n",
       "    .dataframe tbody tr th {\n",
       "        vertical-align: top;\n",
       "    }\n",
       "\n",
       "    .dataframe thead th {\n",
       "        text-align: right;\n",
       "    }\n",
       "</style>\n",
       "<table border=\"1\" class=\"dataframe\">\n",
       "  <thead>\n",
       "    <tr style=\"text-align: right;\">\n",
       "      <th></th>\n",
       "      <th>Date</th>\n",
       "      <th>Horsepower</th>\n",
       "      <th>Fuel Efficiency (MPG)</th>\n",
       "      <th>Brand Reputation (Score 1-10)</th>\n",
       "      <th>Model</th>\n",
       "      <th>Price (USD)</th>\n",
       "    </tr>\n",
       "  </thead>\n",
       "  <tbody>\n",
       "    <tr>\n",
       "      <th>0</th>\n",
       "      <td>2024-02-02 00:00:00</td>\n",
       "      <td>0.5</td>\n",
       "      <td>32.0</td>\n",
       "      <td>8.0</td>\n",
       "      <td>Toyota</td>\n",
       "      <td>30000.0</td>\n",
       "    </tr>\n",
       "    <tr>\n",
       "      <th>1</th>\n",
       "      <td>2022-12-24 00:00:00</td>\n",
       "      <td>0.3</td>\n",
       "      <td>40.0</td>\n",
       "      <td>7.333333</td>\n",
       "      <td>Mazda</td>\n",
       "      <td>22500.0</td>\n",
       "    </tr>\n",
       "    <tr>\n",
       "      <th>2</th>\n",
       "      <td>2023-11-13 00:00:00</td>\n",
       "      <td>0.46875</td>\n",
       "      <td>25.0</td>\n",
       "      <td>9.0</td>\n",
       "      <td>BMW</td>\n",
       "      <td>45000.0</td>\n",
       "    </tr>\n",
       "    <tr>\n",
       "      <th>3</th>\n",
       "      <td>2020-09-23 00:00:00</td>\n",
       "      <td>0.15</td>\n",
       "      <td>35.0</td>\n",
       "      <td>6.0</td>\n",
       "      <td>Hyundai</td>\n",
       "      <td>18000.0</td>\n",
       "    </tr>\n",
       "    <tr>\n",
       "      <th>4</th>\n",
       "      <td>2021-08-09 00:00:00</td>\n",
       "      <td>0.65</td>\n",
       "      <td>34.5</td>\n",
       "      <td>8.0</td>\n",
       "      <td>NaN</td>\n",
       "      <td>32000.0</td>\n",
       "    </tr>\n",
       "  </tbody>\n",
       "</table>\n",
       "</div>"
      ],
      "text/plain": [
       "                  Date Horsepower Fuel Efficiency (MPG)  \\\n",
       "0  2024-02-02 00:00:00        0.5                  32.0   \n",
       "1  2022-12-24 00:00:00        0.3                  40.0   \n",
       "2  2023-11-13 00:00:00    0.46875                  25.0   \n",
       "3  2020-09-23 00:00:00       0.15                  35.0   \n",
       "4  2021-08-09 00:00:00       0.65                  34.5   \n",
       "\n",
       "  Brand Reputation (Score 1-10)    Model Price (USD)  \n",
       "0                           8.0   Toyota     30000.0  \n",
       "1                      7.333333    Mazda     22500.0  \n",
       "2                           9.0      BMW     45000.0  \n",
       "3                           6.0  Hyundai     18000.0  \n",
       "4                           8.0      NaN     32000.0  "
      ]
     },
     "execution_count": 88,
     "metadata": {},
     "output_type": "execute_result"
    }
   ],
   "source": [
    "#The unstack() is similar to stack method, \n",
    "#It also works with multi-index objects in dataframe, producing a reshaped DataFrame with a new inner-most level of column labels.\n",
    "unstacked = stacked.unstack()\n",
    "unstacked.head()"
   ]
  },
  {
   "cell_type": "code",
   "execution_count": 91,
   "id": "99606899-07dd-41a0-b86c-da60abfb5e16",
   "metadata": {},
   "outputs": [
    {
     "data": {
      "text/html": [
       "<div>\n",
       "<style scoped>\n",
       "    .dataframe tbody tr th:only-of-type {\n",
       "        vertical-align: middle;\n",
       "    }\n",
       "\n",
       "    .dataframe tbody tr th {\n",
       "        vertical-align: top;\n",
       "    }\n",
       "\n",
       "    .dataframe thead th {\n",
       "        text-align: right;\n",
       "    }\n",
       "</style>\n",
       "<table border=\"1\" class=\"dataframe\">\n",
       "  <thead>\n",
       "    <tr style=\"text-align: right;\">\n",
       "      <th></th>\n",
       "      <th>Date</th>\n",
       "      <th>Model</th>\n",
       "      <th>variable</th>\n",
       "      <th>value</th>\n",
       "    </tr>\n",
       "  </thead>\n",
       "  <tbody>\n",
       "    <tr>\n",
       "      <th>0</th>\n",
       "      <td>2024-02-02</td>\n",
       "      <td>Toyota</td>\n",
       "      <td>Horsepower</td>\n",
       "      <td>0.50000</td>\n",
       "    </tr>\n",
       "    <tr>\n",
       "      <th>1</th>\n",
       "      <td>2022-12-24</td>\n",
       "      <td>Mazda</td>\n",
       "      <td>Horsepower</td>\n",
       "      <td>0.30000</td>\n",
       "    </tr>\n",
       "    <tr>\n",
       "      <th>2</th>\n",
       "      <td>2023-11-13</td>\n",
       "      <td>BMW</td>\n",
       "      <td>Horsepower</td>\n",
       "      <td>0.46875</td>\n",
       "    </tr>\n",
       "    <tr>\n",
       "      <th>3</th>\n",
       "      <td>2020-09-23</td>\n",
       "      <td>Hyundai</td>\n",
       "      <td>Horsepower</td>\n",
       "      <td>0.15000</td>\n",
       "    </tr>\n",
       "    <tr>\n",
       "      <th>4</th>\n",
       "      <td>2021-08-09</td>\n",
       "      <td>NaN</td>\n",
       "      <td>Horsepower</td>\n",
       "      <td>0.65000</td>\n",
       "    </tr>\n",
       "  </tbody>\n",
       "</table>\n",
       "</div>"
      ],
      "text/plain": [
       "        Date    Model    variable    value\n",
       "0 2024-02-02   Toyota  Horsepower  0.50000\n",
       "1 2022-12-24    Mazda  Horsepower  0.30000\n",
       "2 2023-11-13      BMW  Horsepower  0.46875\n",
       "3 2020-09-23  Hyundai  Horsepower  0.15000\n",
       "4 2021-08-09      NaN  Horsepower  0.65000"
      ]
     },
     "execution_count": 91,
     "metadata": {},
     "output_type": "execute_result"
    }
   ],
   "source": [
    "#he melt() in Pandas reshape dataframe from wide format to long format. \n",
    "#It uses the “[‘col_names’]” to melt the dataframe by column names.\n",
    "df_melt = df_cars.melt(id_vars=['Date', 'Model'])\n",
    "df_melt.head()"
   ]
  },
  {
   "cell_type": "markdown",
   "id": "e0d20308-bc63-4c84-b7f4-6a94a9da352c",
   "metadata": {},
   "source": [
    "### Visualization with Matplotlib, Seaborn"
   ]
  },
  {
   "cell_type": "code",
   "execution_count": 92,
   "id": "7d3b182a-4d31-4331-9ca2-5a780b9508ed",
   "metadata": {},
   "outputs": [],
   "source": [
    "import seaborn as sns\n",
    "import matplotlib.pyplot as plt"
   ]
  },
  {
   "cell_type": "code",
   "execution_count": 95,
   "id": "1fe72923-e3f7-475c-9d6c-68418715ccf7",
   "metadata": {},
   "outputs": [
    {
     "data": {
      "image/png": "[encoded data removed]",
      "text/plain": [
       "<Figure size 1000x600 with 1 Axes>"
      ]
     },
     "metadata": {},
     "output_type": "display_data"
    }
   ],
   "source": [
    "# Using Maltplotlib\n",
    "plt.figure(figsize=(10, 6))\n",
    "plt.plot(df_cars[\"Date\"], df_cars[\"Price (USD)\"], marker='o', label='Price (USD)')\n",
    "plt.title(\"Price Trend Over Time\", fontsize=16)\n",
    "plt.xlabel(\"Date\", fontsize=12)\n",
    "plt.ylabel(\"Price (USD)\", fontsize=12)\n",
    "plt.grid(True)\n",
    "plt.legend()\n",
    "plt.show()"
   ]
  },
  {
   "cell_type": "code",
   "execution_count": 100,
   "id": "1e1b025c-cc67-4840-932f-441c95c1b267",
   "metadata": {},
   "outputs": [
    {
     "data": {
      "image/png": "[encoded data removed]",
      "text/plain": [
       "<Figure size 1000x600 with 1 Axes>"
      ]
     },
     "metadata": {},
     "output_type": "display_data"
    }
   ],
   "source": [
    "# Using Seaborn\n",
    "plt.figure(figsize=(10, 6))\n",
    "sns.barplot(x=\"Model\", y=\"Horsepower\", data=df_cars, errorbar=None, palette=\"viridis\")\n",
    "plt.title(\"Horsepower by Model\", fontsize=16)\n",
    "plt.xlabel(\"Model\", fontsize=12)\n",
    "plt.ylabel(\"Horsepower\", fontsize=12)\n",
    "plt.xticks(rotation=45)\n",
    "plt.show()"
   ]
  },
  {
   "cell_type": "markdown",
   "id": "8054f586-c407-4c46-a5b2-2b82c6726540",
   "metadata": {},
   "source": [
    "### Plotting with Pandas.plot accessor"
   ]
  },
  {
   "cell_type": "code",
   "execution_count": 103,
   "id": "10695f27-38f7-48af-87e4-0ea254d99193",
   "metadata": {},
   "outputs": [
    {
     "data": {
      "image/png": "[encoded data removed]",
      "text/plain": [
       "<Figure size 800x600 with 1 Axes>"
      ]
     },
     "metadata": {},
     "output_type": "display_data"
    }
   ],
   "source": [
    "df_cars.plot(x=\"Horsepower\", y=\"Price (USD)\", kind=\"scatter\", title=\"Horsepower vs Price\", figsize=(8, 6), color = 'red')\n",
    "plt.xlabel(\"Horsepower\")\n",
    "plt.ylabel(\"Price (USD)\")\n",
    "plt.grid(True)\n",
    "plt.show()"
   ]
  },
  {
   "cell_type": "markdown",
   "id": "841a6dd5-e971-471c-b9af-82ca98fbdf4a",
   "metadata": {},
   "source": [
    "## 6: Introduction to Machine Learning with Python\n"
   ]
  },
  {
   "cell_type": "markdown",
   "id": "dea2a22e-d259-479e-88b1-b6a8c283716b",
   "metadata": {},
   "source": [
    "### Implementing basic machine learning models"
   ]
  },
  {
   "cell_type": "code",
   "execution_count": 114,
   "id": "cbbda29f-ff21-4468-a811-b6f18b716ba9",
   "metadata": {},
   "outputs": [],
   "source": [
    "# regression\n",
    "from sklearn.linear_model import LinearRegression\n",
    "from sklearn.model_selection import train_test_split\n",
    "from sklearn.metrics import classification_report, confusion_matrix, accuracy_score"
   ]
  },
  {
   "cell_type": "code",
   "execution_count": 122,
   "id": "e6375339-fbe5-44c3-b5c2-926d93615812",
   "metadata": {},
   "outputs": [
    {
     "data": {
      "text/plain": [
       "array([12108.72924193, 34463.68494827, 27100.83498782, 38289.76204695,\n",
       "       43264.40991745, 37252.02887708, 18794.42977129, 43726.12020922])"
      ]
     },
     "execution_count": 122,
     "metadata": {},
     "output_type": "execute_result"
    }
   ],
   "source": [
    "x = df_cars['Horsepower'].values.reshape(-1,1)\n",
    "y = df_cars['Price (USD)']\n",
    "X_train, X_test, y_train, y_test = train_test_split(X, y, test_size=0.2, random_state=42)\n",
    "model = LinearRegression()\n",
    "model.fit(X_train,y_train)\n",
    "prices_predict = model.predict(X_train)\n",
    "prices_predict"
   ]
  },
  {
   "cell_type": "markdown",
   "id": "891f8bca-acc4-43ae-9a2c-aefa6b77e3bb",
   "metadata": {},
   "source": [
    "### Model evaluation and validation"
   ]
  },
  {
   "cell_type": "code",
   "execution_count": 120,
   "id": "c1a7e97f-73d1-4ff4-b95e-702ab59e37ca",
   "metadata": {},
   "outputs": [
    {
     "data": {
      "text/plain": [
       "0.7857684797897803"
      ]
     },
     "execution_count": 120,
     "metadata": {},
     "output_type": "execute_result"
    }
   ],
   "source": [
    "from sklearn.metrics import r2_score\n",
    "r2_score(y, prices_predict)"
   ]
  },
  {
   "cell_type": "markdown",
   "id": "2a280e25-1067-4e05-8ed2-923d659c3d23",
   "metadata": {},
   "source": [
    "### Hyperparameter Tuning."
   ]
  },
  {
   "cell_type": "code",
   "execution_count": 125,
   "id": "a979df9c-794e-40f7-a58c-cdedc820d033",
   "metadata": {},
   "outputs": [
    {
     "name": "stdout",
     "output_type": "stream",
     "text": [
      "Best alpha: 1.0\n"
     ]
    }
   ],
   "source": [
    "from sklearn.linear_model import Ridge\n",
    "from sklearn.model_selection import train_test_split, GridSearchCV\n",
    "\n",
    "ridge = Ridge()\n",
    "\n",
    "param_grid = {\n",
    "    \"alpha\": np.logspace(-5, 5, 11) \n",
    "}\n",
    "\n",
    "grid_search = GridSearchCV(estimator=ridge, param_grid=param_grid, cv=5, scoring=\"neg_mean_squared_error\", n_jobs=-1)\n",
    "\n",
    "grid_search.fit(X_train,y_train)\n",
    "\n",
    "print(\"Best alpha:\", grid_search.best_params_[\"alpha\"])\n"
   ]
  }
 ],
 "metadata": {
  "kernelspec": {
   "display_name": "Python 3 (ipykernel)",
   "language": "python",
   "name": "python3"
  },
  "language_info": {
   "codemirror_mode": {
    "name": "ipython",
    "version": 3
   },
   "file_extension": ".py",
   "mimetype": "text/x-python",
   "name": "python",
   "nbconvert_exporter": "python",
   "pygments_lexer": "ipython3",
   "version": "3.11.7"
  }
 },
 "nbformat": 4,
 "nbformat_minor": 5
}
